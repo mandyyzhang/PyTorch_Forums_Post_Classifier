{
  "nbformat": 4,
  "nbformat_minor": 0,
  "metadata": {
    "colab": {
      "name": "Pytorch_Forums_Basic_Modeling.ipynb",
      "provenance": []
    },
    "kernelspec": {
      "display_name": "Python 3",
      "name": "python3"
    },
    "language_info": {
      "name": "python"
    }
  },
  "cells": [
    {
      "cell_type": "code",
      "metadata": {
        "colab": {
          "base_uri": "https://localhost:8080/"
        },
        "id": "nIPlP7PQ1FSd",
        "outputId": "b0c5c6ef-f0ec-4f0c-e223-0f3a2d7cddca"
      },
      "source": [
        "from google.colab import drive\n",
        "drive.mount('/content/gdrive') "
      ],
      "execution_count": null,
      "outputs": [
        {
          "name": "stdout",
          "output_type": "stream",
          "text": [
            "Mounted at /content/gdrive\n"
          ]
        }
      ]
    },
    {
      "cell_type": "code",
      "metadata": {
        "colab": {
          "base_uri": "https://localhost:8080/",
          "height": 840
        },
        "id": "Es2bGDAY1eEJ",
        "outputId": "90c53687-bc19-4ff2-87b8-53885c9c7de3"
      },
      "source": [
        "import pandas as pd\n",
        "\n",
        "data = pd.read_csv('/content/gdrive/MyDrive/balanced_all_data_set.csv')\n",
        "data"
      ],
      "execution_count": null,
      "outputs": [
        {
          "data": {
            "text/html": [
              "<div>\n",
              "<style scoped>\n",
              "    .dataframe tbody tr th:only-of-type {\n",
              "        vertical-align: middle;\n",
              "    }\n",
              "\n",
              "    .dataframe tbody tr th {\n",
              "        vertical-align: top;\n",
              "    }\n",
              "\n",
              "    .dataframe thead th {\n",
              "        text-align: right;\n",
              "    }\n",
              "</style>\n",
              "<table border=\"1\" class=\"dataframe\">\n",
              "  <thead>\n",
              "    <tr style=\"text-align: right;\">\n",
              "      <th></th>\n",
              "      <th>Category</th>\n",
              "      <th>Unnamed: 0</th>\n",
              "      <th>Topic Title</th>\n",
              "      <th>Tags</th>\n",
              "      <th>Leading Post</th>\n",
              "      <th>Post Replies</th>\n",
              "      <th>Created_at</th>\n",
              "      <th>Likes</th>\n",
              "      <th>Views</th>\n",
              "      <th>Replies</th>\n",
              "    </tr>\n",
              "  </thead>\n",
              "  <tbody>\n",
              "    <tr>\n",
              "      <th>0</th>\n",
              "      <td>distributed</td>\n",
              "      <td>0</td>\n",
              "      <td>About the distributed category</td>\n",
              "      <td>[]</td>\n",
              "      <td>(Replace this first paragraph with a brief des...</td>\n",
              "      <td>['Hi, smth, this is my (maybe almost) first co...</td>\n",
              "      <td>Dec 30, 2018 11:01 pm</td>\n",
              "      <td>0</td>\n",
              "      <td>701</td>\n",
              "      <td>1</td>\n",
              "    </tr>\n",
              "    <tr>\n",
              "      <th>1</th>\n",
              "      <td>distributed</td>\n",
              "      <td>1</td>\n",
              "      <td>Memory leak when using RPC for pipeline parall...</td>\n",
              "      <td>['distributed-rpc']</td>\n",
              "      <td>Hi, when I use torch.distributed.rpc to implem...</td>\n",
              "      <td>['This looks interesting!\\nI think firs you ne...</td>\n",
              "      <td>Jul 20, 2021 5:39 am</td>\n",
              "      <td>0</td>\n",
              "      <td>75</td>\n",
              "      <td>11</td>\n",
              "    </tr>\n",
              "    <tr>\n",
              "      <th>2</th>\n",
              "      <td>distributed</td>\n",
              "      <td>2</td>\n",
              "      <td>Distributed Data Parallel example - “process 0...</td>\n",
              "      <td>[]</td>\n",
              "      <td>I’m running Distributed Data Parallel example ...</td>\n",
              "      <td>[]</td>\n",
              "      <td>0</td>\n",
              "      <td>0</td>\n",
              "      <td>0</td>\n",
              "      <td>0</td>\n",
              "    </tr>\n",
              "    <tr>\n",
              "      <th>3</th>\n",
              "      <td>distributed</td>\n",
              "      <td>3</td>\n",
              "      <td>How to use 8GPUs as 1</td>\n",
              "      <td>[]</td>\n",
              "      <td>Hi I’m trying to do a learning a certain way a...</td>\n",
              "      <td>[]</td>\n",
              "      <td>0</td>\n",
              "      <td>0</td>\n",
              "      <td>0</td>\n",
              "      <td>0</td>\n",
              "    </tr>\n",
              "    <tr>\n",
              "      <th>4</th>\n",
              "      <td>distributed</td>\n",
              "      <td>4</td>\n",
              "      <td>Disabling all reduce in Distributed Data Parallel</td>\n",
              "      <td>[]</td>\n",
              "      <td>Hello, I’m trying to setup distributed model t...</td>\n",
              "      <td>['\\nIs it possible to disable this functionali...</td>\n",
              "      <td>Jul 21, 2021 9:09 am</td>\n",
              "      <td>0</td>\n",
              "      <td>25</td>\n",
              "      <td>3</td>\n",
              "    </tr>\n",
              "    <tr>\n",
              "      <th>...</th>\n",
              "      <td>...</td>\n",
              "      <td>...</td>\n",
              "      <td>...</td>\n",
              "      <td>...</td>\n",
              "      <td>...</td>\n",
              "      <td>...</td>\n",
              "      <td>...</td>\n",
              "      <td>...</td>\n",
              "      <td>...</td>\n",
              "      <td>...</td>\n",
              "    </tr>\n",
              "    <tr>\n",
              "      <th>27742</th>\n",
              "      <td>uncategorized</td>\n",
              "      <td>9995</td>\n",
              "      <td>Pytorch conv_transpose2d and TF conv2d_trasnpose</td>\n",
              "      <td>NaN</td>\n",
              "      <td>I am converting a TF weight to Pytorch.\\nI cop...</td>\n",
              "      <td>[\"Didn’t this one work?\\n  inp = F.pad(inp, [1...</td>\n",
              "      <td>Jul 5, 2018 6:51 am</td>\n",
              "      <td>0</td>\n",
              "      <td>708</td>\n",
              "      <td>1</td>\n",
              "    </tr>\n",
              "    <tr>\n",
              "      <th>27743</th>\n",
              "      <td>uncategorized</td>\n",
              "      <td>9996</td>\n",
              "      <td>(Cross entropy loss) accuracy on siamese net a...</td>\n",
              "      <td>NaN</td>\n",
              "      <td>I have a siamese network which I am training o...</td>\n",
              "      <td>['Can you please put your code here? Then we c...</td>\n",
              "      <td>May 19, 2020 3:31 am</td>\n",
              "      <td>1</td>\n",
              "      <td>93</td>\n",
              "      <td>1</td>\n",
              "    </tr>\n",
              "    <tr>\n",
              "      <th>27744</th>\n",
              "      <td>uncategorized</td>\n",
              "      <td>9997</td>\n",
              "      <td>Torch.stack yielding wrong dimensions</td>\n",
              "      <td>NaN</td>\n",
              "      <td>I am quite new to pytorch, and I am trying to ...</td>\n",
              "      <td>['Since you are passing two values to self.c, ...</td>\n",
              "      <td>May 18, 2020 3:47 pm</td>\n",
              "      <td>0</td>\n",
              "      <td>123</td>\n",
              "      <td>2</td>\n",
              "    </tr>\n",
              "    <tr>\n",
              "      <th>27745</th>\n",
              "      <td>uncategorized</td>\n",
              "      <td>9998</td>\n",
              "      <td>Set elements of a matrix prior to a specific i...</td>\n",
              "      <td>NaN</td>\n",
              "      <td>Hi\\nI have an index vector  like:\\nidx_v = [1,...</td>\n",
              "      <td>['This code should work:\\nidx_v = torch.tensor...</td>\n",
              "      <td>May 18, 2020 4:23 am</td>\n",
              "      <td>1</td>\n",
              "      <td>115</td>\n",
              "      <td>2</td>\n",
              "    </tr>\n",
              "    <tr>\n",
              "      <th>27746</th>\n",
              "      <td>uncategorized</td>\n",
              "      <td>9999</td>\n",
              "      <td>Every time I input data, I want to call the me...</td>\n",
              "      <td>NaN</td>\n",
              "      <td>for data in loader:\\n        train = data[...</td>\n",
              "      <td>['\\n\\n\\n Hyeongu_Oh:\\n\\nFor example, I set the...</td>\n",
              "      <td>May 18, 2020 10:13 pm</td>\n",
              "      <td>0</td>\n",
              "      <td>76</td>\n",
              "      <td>1</td>\n",
              "    </tr>\n",
              "  </tbody>\n",
              "</table>\n",
              "<p>27747 rows × 10 columns</p>\n",
              "</div>"
            ],
            "text/plain": [
              "            Category  Unnamed: 0  ... Views Replies\n",
              "0        distributed           0  ...   701       1\n",
              "1        distributed           1  ...    75      11\n",
              "2        distributed           2  ...     0       0\n",
              "3        distributed           3  ...     0       0\n",
              "4        distributed           4  ...    25       3\n",
              "...              ...         ...  ...   ...     ...\n",
              "27742  uncategorized        9995  ...   708       1\n",
              "27743  uncategorized        9996  ...    93       1\n",
              "27744  uncategorized        9997  ...   123       2\n",
              "27745  uncategorized        9998  ...   115       2\n",
              "27746  uncategorized        9999  ...    76       1\n",
              "\n",
              "[27747 rows x 10 columns]"
            ]
          },
          "execution_count": 5,
          "metadata": {},
          "output_type": "execute_result"
        }
      ]
    },
    {
      "cell_type": "code",
      "metadata": {
        "colab": {
          "base_uri": "https://localhost:8080/"
        },
        "id": "FRduPS_B2Ydc",
        "outputId": "327948a6-bf42-4f1c-fd22-98b76a4494e9"
      },
      "source": [
        "data.columns"
      ],
      "execution_count": null,
      "outputs": [
        {
          "data": {
            "text/plain": [
              "Index(['Category', 'Unnamed: 0', 'Topic Title', 'Tags', 'Leading Post',\n",
              "       'Post Replies', 'Created_at', 'Likes', 'Views', 'Replies'],\n",
              "      dtype='object')"
            ]
          },
          "execution_count": 6,
          "metadata": {},
          "output_type": "execute_result"
        }
      ]
    },
    {
      "cell_type": "code",
      "metadata": {
        "id": "tBxsYaLf2exV"
      },
      "source": [
        "data.drop(columns= ['Unnamed: 0', 'Tags'], inplace=True)"
      ],
      "execution_count": null,
      "outputs": []
    },
    {
      "cell_type": "code",
      "metadata": {
        "colab": {
          "base_uri": "https://localhost:8080/",
          "height": 593
        },
        "id": "nPw52ppv2hGh",
        "outputId": "c33b1b09-805f-431a-f3bd-46dec5e82662"
      },
      "source": [
        "data.head()"
      ],
      "execution_count": null,
      "outputs": [
        {
          "data": {
            "text/html": [
              "<div>\n",
              "<style scoped>\n",
              "    .dataframe tbody tr th:only-of-type {\n",
              "        vertical-align: middle;\n",
              "    }\n",
              "\n",
              "    .dataframe tbody tr th {\n",
              "        vertical-align: top;\n",
              "    }\n",
              "\n",
              "    .dataframe thead th {\n",
              "        text-align: right;\n",
              "    }\n",
              "</style>\n",
              "<table border=\"1\" class=\"dataframe\">\n",
              "  <thead>\n",
              "    <tr style=\"text-align: right;\">\n",
              "      <th></th>\n",
              "      <th>Category</th>\n",
              "      <th>Topic Title</th>\n",
              "      <th>Leading Post</th>\n",
              "      <th>Post Replies</th>\n",
              "      <th>Created_at</th>\n",
              "      <th>Likes</th>\n",
              "      <th>Views</th>\n",
              "      <th>Replies</th>\n",
              "    </tr>\n",
              "  </thead>\n",
              "  <tbody>\n",
              "    <tr>\n",
              "      <th>0</th>\n",
              "      <td>distributed</td>\n",
              "      <td>About the distributed category</td>\n",
              "      <td>(Replace this first paragraph with a brief des...</td>\n",
              "      <td>['Hi, smth, this is my (maybe almost) first co...</td>\n",
              "      <td>Dec 30, 2018 11:01 pm</td>\n",
              "      <td>0</td>\n",
              "      <td>701</td>\n",
              "      <td>1</td>\n",
              "    </tr>\n",
              "    <tr>\n",
              "      <th>1</th>\n",
              "      <td>distributed</td>\n",
              "      <td>Memory leak when using RPC for pipeline parall...</td>\n",
              "      <td>Hi, when I use torch.distributed.rpc to implem...</td>\n",
              "      <td>['This looks interesting!\\nI think firs you ne...</td>\n",
              "      <td>Jul 20, 2021 5:39 am</td>\n",
              "      <td>0</td>\n",
              "      <td>75</td>\n",
              "      <td>11</td>\n",
              "    </tr>\n",
              "    <tr>\n",
              "      <th>2</th>\n",
              "      <td>distributed</td>\n",
              "      <td>Distributed Data Parallel example - “process 0...</td>\n",
              "      <td>I’m running Distributed Data Parallel example ...</td>\n",
              "      <td>[]</td>\n",
              "      <td>0</td>\n",
              "      <td>0</td>\n",
              "      <td>0</td>\n",
              "      <td>0</td>\n",
              "    </tr>\n",
              "    <tr>\n",
              "      <th>3</th>\n",
              "      <td>distributed</td>\n",
              "      <td>How to use 8GPUs as 1</td>\n",
              "      <td>Hi I’m trying to do a learning a certain way a...</td>\n",
              "      <td>[]</td>\n",
              "      <td>0</td>\n",
              "      <td>0</td>\n",
              "      <td>0</td>\n",
              "      <td>0</td>\n",
              "    </tr>\n",
              "    <tr>\n",
              "      <th>4</th>\n",
              "      <td>distributed</td>\n",
              "      <td>Disabling all reduce in Distributed Data Parallel</td>\n",
              "      <td>Hello, I’m trying to setup distributed model t...</td>\n",
              "      <td>['\\nIs it possible to disable this functionali...</td>\n",
              "      <td>Jul 21, 2021 9:09 am</td>\n",
              "      <td>0</td>\n",
              "      <td>25</td>\n",
              "      <td>3</td>\n",
              "    </tr>\n",
              "  </tbody>\n",
              "</table>\n",
              "</div>"
            ],
            "text/plain": [
              "      Category  ... Replies\n",
              "0  distributed  ...       1\n",
              "1  distributed  ...      11\n",
              "2  distributed  ...       0\n",
              "3  distributed  ...       0\n",
              "4  distributed  ...       3\n",
              "\n",
              "[5 rows x 8 columns]"
            ]
          },
          "execution_count": 8,
          "metadata": {},
          "output_type": "execute_result"
        }
      ]
    },
    {
      "cell_type": "code",
      "metadata": {
        "id": "1nI03X_d2idA"
      },
      "source": [
        "#Explore the data===========================================================\n",
        "import logging\n",
        "import pandas as pd\n",
        "import numpy as np\n",
        "from numpy import random\n",
        "import gensim\n",
        "import nltk\n",
        "from sklearn.model_selection import train_test_split\n",
        "from sklearn.feature_extraction.text import CountVectorizer, TfidfVectorizer\n",
        "from sklearn.metrics import accuracy_score, confusion_matrix\n",
        "import matplotlib.pyplot as plt\n",
        "from nltk.corpus import stopwords\n",
        "import re\n",
        "from bs4 import BeautifulSoup\n",
        "%matplotlib inline"
      ],
      "execution_count": null,
      "outputs": []
    },
    {
      "cell_type": "code",
      "metadata": {
        "id": "DVK1ripc2mWy"
      },
      "source": [
        "df = data.copy()"
      ],
      "execution_count": null,
      "outputs": []
    },
    {
      "cell_type": "code",
      "metadata": {
        "colab": {
          "base_uri": "https://localhost:8080/"
        },
        "id": "vz-COvtS2oO7",
        "outputId": "217e77ff-4fee-4834-d417-af7e3751222d"
      },
      "source": [
        "df.info()"
      ],
      "execution_count": null,
      "outputs": [
        {
          "name": "stdout",
          "output_type": "stream",
          "text": [
            "<class 'pandas.core.frame.DataFrame'>\n",
            "RangeIndex: 27747 entries, 0 to 27746\n",
            "Data columns (total 8 columns):\n",
            " #   Column        Non-Null Count  Dtype \n",
            "---  ------        --------------  ----- \n",
            " 0   Category      27747 non-null  object\n",
            " 1   Topic Title   27747 non-null  object\n",
            " 2   Leading Post  27743 non-null  object\n",
            " 3   Post Replies  27747 non-null  object\n",
            " 4   Created_at    27747 non-null  object\n",
            " 5   Likes         27747 non-null  int64 \n",
            " 6   Views         27747 non-null  object\n",
            " 7   Replies       27747 non-null  int64 \n",
            "dtypes: int64(2), object(6)\n",
            "memory usage: 1.7+ MB\n"
          ]
        }
      ]
    },
    {
      "cell_type": "code",
      "metadata": {
        "id": "HLR5iViS2pnF"
      },
      "source": [
        "df['post'] = df['Topic Title'] + ' ' + df['Leading Post'] + ' ' + df['Post Replies']"
      ],
      "execution_count": null,
      "outputs": []
    },
    {
      "cell_type": "code",
      "metadata": {
        "colab": {
          "base_uri": "https://localhost:8080/"
        },
        "id": "_O5mHgQD2s5f",
        "outputId": "56d0256a-a338-4cd1-c556-928efdba5f40"
      },
      "source": [
        "df['post'].head()"
      ],
      "execution_count": null,
      "outputs": [
        {
          "data": {
            "text/plain": [
              "0    About the distributed category (Replace this f...\n",
              "1    Memory leak when using RPC for pipeline parall...\n",
              "2    Distributed Data Parallel example - “process 0...\n",
              "3    How to use 8GPUs as 1 Hi I’m trying to do a le...\n",
              "4    Disabling all reduce in Distributed Data Paral...\n",
              "Name: post, dtype: object"
            ]
          },
          "execution_count": 13,
          "metadata": {},
          "output_type": "execute_result"
        }
      ]
    },
    {
      "cell_type": "code",
      "metadata": {
        "colab": {
          "base_uri": "https://localhost:8080/"
        },
        "id": "nWYXc4Rq2uK4",
        "outputId": "1d9e87f2-7102-42e4-e0b8-adc1d50f00f4"
      },
      "source": [
        "df['post'][1]\n",
        "df = df[df['post'].notnull()]\n",
        "df['post'].apply(lambda x: len(x.split(' '))).sum()"
      ],
      "execution_count": null,
      "outputs": [
        {
          "data": {
            "text/plain": [
              "15512636"
            ]
          },
          "execution_count": 14,
          "metadata": {},
          "output_type": "execute_result"
        }
      ]
    },
    {
      "cell_type": "code",
      "metadata": {
        "colab": {
          "base_uri": "https://localhost:8080/"
        },
        "id": "bGqK5PXX2xS8",
        "outputId": "5e5c2144-fe1d-4b70-f65c-aae5e4d655c0"
      },
      "source": [
        "df['Category'].unique()"
      ],
      "execution_count": null,
      "outputs": [
        {
          "data": {
            "text/plain": [
              "array(['distributed', 'autograd', 'C++', 'deployment', 'jit',\n",
              "       'quantization', 'glow', 'nlp', 'Mobile', 'reinforcement-learning',\n",
              "       'Memory Format', 'audio', 'mixed-precision', 'Site Feedback',\n",
              "       'vision', 'uncategorized'], dtype=object)"
            ]
          },
          "execution_count": 15,
          "metadata": {},
          "output_type": "execute_result"
        }
      ]
    },
    {
      "cell_type": "code",
      "metadata": {
        "colab": {
          "base_uri": "https://localhost:8080/",
          "height": 418
        },
        "id": "J4b_i3z02y4T",
        "outputId": "709c0027-7a64-400d-8f08-aaa712a5dd0a"
      },
      "source": [
        "my_categories = ['distributed', 'autograd', 'C++', 'deployment', 'jit',\n",
        "       'quantization', 'glow', 'nlp', 'Mobile', 'reinforcement-learning',\n",
        "       'Memory Format', 'audio', 'mixed-precision', 'Site Feedback',\n",
        "       'vision', 'uncategorized']\n",
        "\n",
        "\n",
        "df['Category'].value_counts().plot.bar()\n",
        "plt.title('Category wise no of posts')\n",
        "plt.xlabel('Category name')\n",
        "plt.ylabel('no of posts')"
      ],
      "execution_count": null,
      "outputs": [
        {
          "data": {
            "text/plain": [
              "Text(0, 0.5, 'no of posts')"
            ]
          },
          "execution_count": 16,
          "metadata": {},
          "output_type": "execute_result"
        },
        {
          "data": {
            "image/png": "[encoded data removed]",
            "text/plain": [
              "<Figure size 432x288 with 1 Axes>"
            ]
          },
          "metadata": {},
          "output_type": "display_data"
        }
      ]
    },
    {
      "cell_type": "code",
      "metadata": {
        "colab": {
          "base_uri": "https://localhost:8080/",
          "height": 462
        },
        "id": "BLsad7Qk24qQ",
        "outputId": "58582e3f-5f1e-4886-bc07-91a85104eb39"
      },
      "source": [
        "fig = plt.figure(figsize=(6,6), dpi=200)\n",
        "ax = plt.subplot(111)\n",
        "\n",
        "df['Category'].value_counts().plot(kind='pie', ax=ax, autopct='%1.1f%%', startangle=270, fontsize=17)"
      ],
      "execution_count": null,
      "outputs": [
        {
          "data": {
            "text/plain": [
              "<matplotlib.axes._subplots.AxesSubplot at 0x7fef1ae6a710>"
            ]
          },
          "execution_count": 17,
          "metadata": {},
          "output_type": "execute_result"
        },
        {
          "data": {
            "image/png": "[encoded data removed]",
            "text/plain": [
              "<Figure size 1200x1200 with 1 Axes>"
            ]
          },
          "metadata": {},
          "output_type": "display_data"
        }
      ]
    },
    {
      "cell_type": "code",
      "metadata": {
        "colab": {
          "base_uri": "https://localhost:8080/"
        },
        "id": "zTUxc-HA28-u",
        "outputId": "7f199029-13e0-4e06-8bb5-a67fd819bbae"
      },
      "source": [
        "def print_plot(index):\n",
        "    example = df[df.index == index][['post', 'Category']].values[0]\n",
        "    if len(example) > 0:\n",
        "        print(example[0])\n",
        "        print('Category:', example[1])\n",
        "print_plot(10)"
      ],
      "execution_count": null,
      "outputs": [
        {
          "name": "stdout",
          "output_type": "stream",
          "text": [
            "Should we split batch_size according to ngpu_per_node when DistributedDataparallel Assume we have two nodes: node-A and node-B, each has 4gpus(i.e. ngpu_per_node=4). We set args.batch_size = 256 on each node, means that we want each node process 256 images in each forward.\n",
            "(1) If we use DistributedDataparallel with 1gpu-per-process mode, shall we manually divide the batchsize by ngpu_per_node in torch.utils.data.DataLoader : torch.utils.data.DataLoader(batch_size = args.batch_size / 4)(the way used in pytorch-imagenet-official-example 53). In my original opinion, I think DistributedSampler can handle such thing, because we have passed world_size and rank to DistributedSampler. . If I was wrong, please point it out, thanks!\n",
            "(2) If dividing the batchsize by ngpu_per_node is a correct way, I wonder what will happen if we do not that.\n",
            "\n",
            "\n",
            "Does it means in each node, 4*batch_size images are processed per forward-process?\n",
            "\n",
            "\n",
            "Will 4*len(dataset)  images are processed in one epoch, or the forward frequency are four times less than usual(i.e. the total number images proceeded per epoch keep same)?\n",
            "\n",
            " ['\\n\\n\\n hhxx:\\n\\n(2) If dividing the batchsize by ngpu_per_node is a correct way, I wonder what will happen if we do not that.\\n\\nDoes it means in each node, 4*batch_size images are processed per forward-process?\\nWill 4*len(dataset) images are processed in one epoch, or the forward frequency are four times less than usual(i.e. the total number images proceeded per epoch keep same)?\\n\\n\\n\\nYou are correct. Each DataLoader instance pairs with a DDP instances. If you do not divide the batch-size=256 by 4, then each DDP instance will process 256 images. As your env has 8-GPUs in total, there will be 8 DDP instances. So one iteration will process 256 * 8 images in total.\\nHowever, DDP does divide the gradients by the world_size by default code 83. So, when configuring learning rate, you only need to consider the batch_size for a single DDP instance.', 'Another question is if we do not divide batch-size by 8, the total images processed in one epoch will be the same as usual or eight times?\\nAs for learning rate, if we have 8-gpus in total, there wiil be 8 DDP instances. If the batch-size in each DDP distances is 64 (has been divides manually), then one iteration will process 64×4=256 images per node. Taking all gpu into account (2 nodes, 4gpus per node), then one iteration will process 64×8=512 images.  Assuming in one-gpu-one-node scenario, we set 1×lr when batch-size=64, 4×lr when batch-size=256 and 8×lr when batch-size=512(a universal strategy that  increase learning rate with batch-size linearly). Let us back to DDP scenario (2 node, 4gpus per node), what learning rate shall we use？ 1×lr or 4×lr or 8×lr？', '\\n\\n\\n hhxx:\\n\\nAnother question is if we do not divide batch-size by 8, the total images processed in one epoch will be the same as usual or eight times?\\n\\n\\nThe total number of images processed will be 8 times, because each DDP instance/process will process batch_size images.\\n\\nLet us back to DDP scenario (2 node, 4gpus per node), what learning rate shall we use？ 1×lr or 4×lr or 8×lr？\\n\\nIt should be 1x lr. Because DDP calculates the average instead of sum of all local gradients. Let’s use some number to explain this. Assuming every image leads to a torch.ones_like(param) gradient for each parameter.\\n\\nFor local training without DDP, if you set batch_size = 64, the gradient for each parameter will then be torch.ones_like(param) * 64.\\nFor 8-process DDP training, if you set batch_size = 64, the local gradient for each parameter will also be torch.ones_like(param) * 64. Then DDP use collective communication to calculate the sum of gradients across all DDP instances which will be torch.ones_like(param) * 64 * 8, and then DDP divides that value by 8. So the final gradient in param.grad field will still be  torch.ones_like(param) * 64 (the code actually first divide and then do globally sum). So, when set lr, you only need to consider local batch_size.\\n', 'According to the discuss in Is average the correct way for the gradient in DistributedDataParallel 34, I think we should  set 8×lr. I will state my reason under 1 node, 8gpus, local-batch=64(images processed by one gpu each iteration) scenario:\\n(1) Let us consider a batch images (batch-size=512), in DataParallel scenario, a complete forward-backforwad pipeline is:\\n\\n\\nthe input data are split to 8 slices (each contains 64 images), each slice is feed to net to compute output\\n\\n\\noutputs are concated  in master gpu (usually gpu 0) to form a [512, C] outputs\\n\\n\\ncompute the loss with groundtruth(same dimension: [512, C]) :   loss = \\\\frac{1}{512} \\\\sum_{i=1}^512 mse(output[i], groundtruth[i])( use mse loss as illustration)\\n\\n\\nuse loss.backward to compute gradients.\\n\\n\\nSo the finally [512, C] outputs are the same as computed on one gpu. So the learning rate here shall be set as 8×lr to keep same as 512 batchsize in one-gpu-one-node scenarior.\\n(2) Secondly, when DistributedDataparallel is used, the pipeline is\\n\\n\\nthe input data are also split to 8 slices\\n\\n\\noutputs are computed in each gpu to form a [64, C] outputs\\n\\n\\nIn each gpu, compute the loss  loss = \\\\frac{1}{64} \\\\sum_{i=1}^64 mse(output[i], groundtruth[i]) and compute gradients grad_k (k is the gpu number, k=0,1,...,7):  (this is different with Dataparallel, which need collect all outputs in master gpu)\\n\\n\\nAverage the gradients between all gpus: avg_grad =\\\\frac{1}{8} \\\\sum_{k=1}^8 grad_k\\n\\n\\nBy this way, the averaged gradients are also same as the gradients computed on one-gpu-one-node scenario. So I think learning rate here need to be set as 8×lr to keep same as 512 batchsize on one-gpu-one-node scenario.\\nThe main difference between you and me is that when local batch is set as 64, I think local gradients will be averaged over local samples, resulting in torch.ones_like(param)*64/64, but you think the local gradients will be summed over local samples, resulting in torch.ones_like(param) * 64. I think local gradients will be averaged mainly because the loss function in pytroch, like mse(), will compute the average loss over all input samples, so the gradients computed from such loss also should be averaged over all input samples.\\nI do not know if I understand DistributedDataparallel in a right way. Please let me know if there has any wrong.', 'I agree with all your analysis on the magnitude of the gradients, and I agree that it depends on the loss function. But even with MSE loss fn, it can lead to different conclusions:\\n\\nIf the fw-bw has processed 8X data, we should set lr to 8X, meaning that the model should take a larger step if it has processed more data as the gradient is more accurate. (IIUC, this is what you advocate for)\\nIf the gradient is of the same magnitude, we should use 1X lr, especially when approaching convergence. Otherwise, if we use 8X lr, it is more likely to overshoot and hurt converged model accuracy.\\n\\nAfter reading your analysis, I realized that, with MSE loss fn, the discussion is mostly irrelevant to DDP. The question would then be, if I increase batch size by k, how should I adjust the learning rate, which is an open question. ', 'Is it correct that when local batch-size is 64 (i.e. torch.utils.data.DataLoader(batch_size=64) and torch.utils.data.distributed.DistributedSampler() is used), and there are N processes totally in ddp (N processes distirbute in one node or more than one node), the forward-backward process is similar to the forward-backward process in 1-gpu-1-node using 64×N batch-size inputs?', 'For SGD this https://arxiv.org/abs/1706.02677 22 paper suggest When the minibatch size is multiplied by k, multiply the learning rate by k.', 'For my better understanding, @mrshenli - can you please answer?\\nSuppose we have 32*8 images in the dataset, and the batch size is 32. We want to train the model for 1 epoch only. Now consider following 3 scenarios. Note that we use same LR and optimizer function in all three cases below.\\n(1) Single Node - Single GPU: In this case, one epoch will require 8 steps to execute i.e. in each step, 32 images will be processed. The gradient will be calculated and applied 8 times. The model parameters will get updated 8 times.\\n(2) Single Node - Multiple GPU using DataParallel: Suppose we use 8 GPUs. In this case, one epoch will still require 8 steps to execute i.e. in each step, 32 images will be processed (albeit each GPU will process only 4 images and then the gradients will be summed over). The gradient will be calculated and applied 8 times. The model parameters will get updated 8 times.\\n(3) Single Node - Multiple GPU using DistributedDataParallel: Suppose we use 8 GPUs. In this case, one epoch will require just 1 step to execute as in each step 32*8 images will be processed. However, this also means that the gradient will be calculated and applied only 1 time. And consequently, the model parameters will get updated just 1 time. So, in order to get similar results as previous two points (#1 and #2 above), we will have to execute 8 epochs instead of 1, as gradients are averaged in the backward function and hence effective weight updates are almost similar in scenario 3 and those in scenarios 1 and 2 above.\\nIs this understanding correct?', 'I think that points 1) and 2) are correct. And if you want to get the same behaviour in the DDP experiment (3), you shouldn’t do 8 epochs with batch size 32.\\nYou just have to pass batch_size/num_GPUs as your real batch size, i.e.: 32/8=4. Then all 8 GPUs will process 4 images, i.e. 4 images * 8 GPUs = 32 images per epoch (just like the (1) and (2)).', '@ekurtic Thanks for quick response.\\nI am trying to find how is the gain in training time (without affecting accuracy as much) by using DistributedDataParallel. As per you, if I use batch size of 4, then yes the training will be faster. However in that case I will be using LR of batch size 32 for that of 4. Is this okay? And if I divide LR by 8, then I am effectively slowing down the training, and thus not gaining on training time. Am I missing something here?', 'From my understanding of how DDP works:\\nThere are a few gains that result in better performance (faster training) with DDP. One of them is that in a DDP experiment, your model and optimizer are “replicated” on each GPU (before training starts; notice this happens only once). After that, each GPU will optimize your model independently and exchange gradients with other GPUs to ensure that optimization steps are the same at each GPU.\\nOn the other side, DataParallel has to scatter input data from the main GPU, replicate your model on each GPU, do a forward pass, gather back all outputs to the main GPU to compute loss, then send back the results to each GPU so they can compute gradients of the model, and in the end, collect all those gradients on the main GPU to compute the optimization step. And all of this happens for each batch of input data. As you can see, in contrast to the DDP, there is a lot of communication, copying, synchronizing and so on.\\nRegarding the LR question:\\nIf you use batch_size/num_GPUs = 32/8 = 4 as your batch size in DDP, then you don’t have to change the LR. It should be the same as the one in DataParallel with batch_size = 32, because the effective batch size that your model is working with is the same: 32. It’s just handled in a different way with DDP.', '@ekurtic I agree with your description of advantages of DDP in terms of communication, copy, sync etc. \\nOn the LR part, however, I am not sure. As per the discussion in this thread and few others, each gpu will individually process 4 images, loss will be calculated and then during backward function the gradients will be calculated individually first. Then DDP calculates the average (instead of sum) of all local gradients. This means that the gradient magnitude (the average value) is effectively in the near-range of that for batch size of 4, and not 32. So I am not sure whether LR of batchsize 4 should be applied or that of 32.', 'Loosely speaking this is why I think we don’t need to update LR if we ensure that the effective batch sizes are the same:\\n\\nScreenshot 2021-07-16 at 07.45.051096×1178 101 KB\\n', 'Thank you. This is very good explanation.']\n",
            "Category: distributed\n"
          ]
        }
      ]
    },
    {
      "cell_type": "code",
      "metadata": {
        "id": "Svdnwsjv2_mM"
      },
      "source": [
        "#Text Pre-processing========================================================\n",
        "test_df = df.copy()"
      ],
      "execution_count": null,
      "outputs": []
    },
    {
      "cell_type": "code",
      "metadata": {
        "id": "Cp3ZE1wr3Bc1"
      },
      "source": [
        "REPLACE_BY_SPACE_RE = re.compile('[/(){}\\[\\]\\'\\“\\”\\’\\|@,;]')\n",
        "BAD_SYMBOLS_RE = re.compile('[^0-9a-z #+_]')\n",
        "\n",
        "def clean_text(text):\n",
        "    text = BeautifulSoup(text, \"lxml\").text\n",
        "    text = text.lower()\n",
        "    text = REPLACE_BY_SPACE_RE.sub(' ', text) \n",
        "    return text"
      ],
      "execution_count": null,
      "outputs": []
    },
    {
      "cell_type": "code",
      "metadata": {
        "id": "5z7BJf4P3CjC"
      },
      "source": [
        "test_df['post'] = test_df['post'].apply(lambda x: clean_text(str(x)))"
      ],
      "execution_count": null,
      "outputs": []
    },
    {
      "cell_type": "code",
      "metadata": {
        "colab": {
          "base_uri": "https://localhost:8080/"
        },
        "id": "PiixdtOG3Dzb",
        "outputId": "619a8f4a-f001-4397-e6b3-5c0e2705fb63"
      },
      "source": [
        "def test_print_plot(index):\n",
        "    example = test_df[test_df.index == index][['post', 'Category']].values[0]\n",
        "    if len(example) > 0:\n",
        "        print(example[0])\n",
        "        print('Category:', example[1])\n",
        "test_print_plot(10)"
      ],
      "execution_count": null,
      "outputs": [
        {
          "name": "stdout",
          "output_type": "stream",
          "text": [
            "should we split batch_size according to ngpu_per_node when distributeddataparallel assume we have two nodes: node-a and node-b  each has 4gpus i.e. ngpu_per_node=4 . we set args.batch_size = 256 on each node  means that we want each node process 256 images in each forward.\n",
            " 1  if we use distributeddataparallel with 1gpu-per-process mode  shall we manually divide the batchsize by ngpu_per_node in torch.utils.data.dataloader : torch.utils.data.dataloader batch_size = args.batch_size   4  the way used in pytorch-imagenet-official-example 53 . in my original opinion  i think distributedsampler can handle such thing  because we have passed world_size and rank to distributedsampler. . if i was wrong  please point it out  thanks!\n",
            " 2  if dividing the batchsize by ngpu_per_node is a correct way  i wonder what will happen if we do not that.\n",
            "\n",
            "\n",
            "does it means in each node  4*batch_size images are processed per forward-process?\n",
            "\n",
            "\n",
            "will 4*len dataset   images are processed in one epoch  or the forward frequency are four times less than usual i.e. the total number images proceeded per epoch keep same ?\n",
            "\n",
            "   \\n\\n\\n hhxx:\\n\\n 2  if dividing the batchsize by ngpu_per_node is a correct way  i wonder what will happen if we do not that.\\n\\ndoes it means in each node  4*batch_size images are processed per forward-process?\\nwill 4*len dataset  images are processed in one epoch  or the forward frequency are four times less than usual i.e. the total number images proceeded per epoch keep same ?\\n\\n\\n\\nyou are correct. each dataloader instance pairs with a ddp instances. if you do not divide the batch-size=256 by 4  then each ddp instance will process 256 images. as your env has 8-gpus in total  there will be 8 ddp instances. so one iteration will process 256 * 8 images in total.\\nhowever  ddp does divide the gradients by the world_size by default code 83. so  when configuring learning rate  you only need to consider the batch_size for a single ddp instance.    another question is if we do not divide batch-size by 8  the total images processed in one epoch will be the same as usual or eight times?\\nas for learning rate  if we have 8-gpus in total  there wiil be 8 ddp instances. if the batch-size in each ddp distances is 64  has been divides manually   then one iteration will process 64×4=256 images per node. taking all gpu into account  2 nodes  4gpus per node   then one iteration will process 64×8=512 images.  assuming in one-gpu-one-node scenario  we set 1×lr when batch-size=64  4×lr when batch-size=256 and 8×lr when batch-size=512 a universal strategy that  increase learning rate with batch-size linearly . let us back to ddp scenario  2 node  4gpus per node   what learning rate shall we use？ 1×lr or 4×lr or 8×lr？    \\n\\n\\n hhxx:\\n\\nanother question is if we do not divide batch-size by 8  the total images processed in one epoch will be the same as usual or eight times?\\n\\n\\nthe total number of images processed will be 8 times  because each ddp instance process will process batch_size images.\\n\\nlet us back to ddp scenario  2 node  4gpus per node   what learning rate shall we use？ 1×lr or 4×lr or 8×lr？\\n\\nit should be 1x lr. because ddp calculates the average instead of sum of all local gradients. let s use some number to explain this. assuming every image leads to a torch.ones_like param  gradient for each parameter.\\n\\nfor local training without ddp  if you set batch_size = 64  the gradient for each parameter will then be torch.ones_like param  * 64.\\nfor 8-process ddp training  if you set batch_size = 64  the local gradient for each parameter will also be torch.ones_like param  * 64. then ddp use collective communication to calculate the sum of gradients across all ddp instances which will be torch.ones_like param  * 64 * 8  and then ddp divides that value by 8. so the final gradient in param.grad field will still be  torch.ones_like param  * 64  the code actually first divide and then do globally sum . so  when set lr  you only need to consider local batch_size.\\n    according to the discuss in is average the correct way for the gradient in distributeddataparallel 34  i think we should  set 8×lr. i will state my reason under 1 node  8gpus  local-batch=64 images processed by one gpu each iteration  scenario:\\n 1  let us consider a batch images  batch-size=512   in dataparallel scenario  a complete forward-backforwad pipeline is:\\n\\n\\nthe input data are split to 8 slices  each contains 64 images   each slice is feed to net to compute output\\n\\n\\noutputs are concated  in master gpu  usually gpu 0  to form a  512  c  outputs\\n\\n\\ncompute the loss with groundtruth same dimension:  512  c   :   loss = \\\\frac 1  512  \\\\sum_ i=1 ^512 mse output i   groundtruth i    use mse loss as illustration \\n\\n\\nuse loss.backward to compute gradients.\\n\\n\\nso the finally  512  c  outputs are the same as computed on one gpu. so the learning rate here shall be set as 8×lr to keep same as 512 batchsize in one-gpu-one-node scenarior.\\n 2  secondly  when distributeddataparallel is used  the pipeline is\\n\\n\\nthe input data are also split to 8 slices\\n\\n\\noutputs are computed in each gpu to form a  64  c  outputs\\n\\n\\nin each gpu  compute the loss  loss = \\\\frac 1  64  \\\\sum_ i=1 ^64 mse output i   groundtruth i   and compute gradients grad_k  k is the gpu number  k=0 1 ... 7 :   this is different with dataparallel  which need collect all outputs in master gpu \\n\\n\\naverage the gradients between all gpus: avg_grad =\\\\frac 1  8  \\\\sum_ k=1 ^8 grad_k\\n\\n\\nby this way  the averaged gradients are also same as the gradients computed on one-gpu-one-node scenario. so i think learning rate here need to be set as 8×lr to keep same as 512 batchsize on one-gpu-one-node scenario.\\nthe main difference between you and me is that when local batch is set as 64  i think local gradients will be averaged over local samples  resulting in torch.ones_like param *64 64  but you think the local gradients will be summed over local samples  resulting in torch.ones_like param  * 64. i think local gradients will be averaged mainly because the loss function in pytroch  like mse    will compute the average loss over all input samples  so the gradients computed from such loss also should be averaged over all input samples.\\ni do not know if i understand distributeddataparallel in a right way. please let me know if there has any wrong.    i agree with all your analysis on the magnitude of the gradients  and i agree that it depends on the loss function. but even with mse loss fn  it can lead to different conclusions:\\n\\nif the fw-bw has processed 8x data  we should set lr to 8x  meaning that the model should take a larger step if it has processed more data as the gradient is more accurate.  iiuc  this is what you advocate for \\nif the gradient is of the same magnitude  we should use 1x lr  especially when approaching convergence. otherwise  if we use 8x lr  it is more likely to overshoot and hurt converged model accuracy.\\n\\nafter reading your analysis  i realized that  with mse loss fn  the discussion is mostly irrelevant to ddp. the question would then be  if i increase batch size by k  how should i adjust the learning rate  which is an open question.     is it correct that when local batch-size is 64  i.e. torch.utils.data.dataloader batch_size=64  and torch.utils.data.distributed.distributedsampler   is used   and there are n processes totally in ddp  n processes distirbute in one node or more than one node   the forward-backward process is similar to the forward-backward process in 1-gpu-1-node using 64×n batch-size inputs?    for sgd this https:  arxiv.org abs 1706.02677 22 paper suggest when the minibatch size is multiplied by k  multiply the learning rate by k.    for my better understanding   mrshenli - can you please answer?\\nsuppose we have 32*8 images in the dataset  and the batch size is 32. we want to train the model for 1 epoch only. now consider following 3 scenarios. note that we use same lr and optimizer function in all three cases below.\\n 1  single node - single gpu: in this case  one epoch will require 8 steps to execute i.e. in each step  32 images will be processed. the gradient will be calculated and applied 8 times. the model parameters will get updated 8 times.\\n 2  single node - multiple gpu using dataparallel: suppose we use 8 gpus. in this case  one epoch will still require 8 steps to execute i.e. in each step  32 images will be processed  albeit each gpu will process only 4 images and then the gradients will be summed over . the gradient will be calculated and applied 8 times. the model parameters will get updated 8 times.\\n 3  single node - multiple gpu using distributeddataparallel: suppose we use 8 gpus. in this case  one epoch will require just 1 step to execute as in each step 32*8 images will be processed. however  this also means that the gradient will be calculated and applied only 1 time. and consequently  the model parameters will get updated just 1 time. so  in order to get similar results as previous two points  #1 and #2 above   we will have to execute 8 epochs instead of 1  as gradients are averaged in the backward function and hence effective weight updates are almost similar in scenario 3 and those in scenarios 1 and 2 above.\\nis this understanding correct?    i think that points 1  and 2  are correct. and if you want to get the same behaviour in the ddp experiment  3   you shouldn t do 8 epochs with batch size 32.\\nyou just have to pass batch_size num_gpus as your real batch size  i.e.: 32 8=4. then all 8 gpus will process 4 images  i.e. 4 images * 8 gpus = 32 images per epoch  just like the  1  and  2  .     ekurtic thanks for quick response.\\ni am trying to find how is the gain in training time  without affecting accuracy as much  by using distributeddataparallel. as per you  if i use batch size of 4  then yes the training will be faster. however in that case i will be using lr of batch size 32 for that of 4. is this okay? and if i divide lr by 8  then i am effectively slowing down the training  and thus not gaining on training time. am i missing something here?    from my understanding of how ddp works:\\nthere are a few gains that result in better performance  faster training  with ddp. one of them is that in a ddp experiment  your model and optimizer are  replicated  on each gpu  before training starts  notice this happens only once . after that  each gpu will optimize your model independently and exchange gradients with other gpus to ensure that optimization steps are the same at each gpu.\\non the other side  dataparallel has to scatter input data from the main gpu  replicate your model on each gpu  do a forward pass  gather back all outputs to the main gpu to compute loss  then send back the results to each gpu so they can compute gradients of the model  and in the end  collect all those gradients on the main gpu to compute the optimization step. and all of this happens for each batch of input data. as you can see  in contrast to the ddp  there is a lot of communication  copying  synchronizing and so on.\\nregarding the lr question:\\nif you use batch_size num_gpus = 32 8 = 4 as your batch size in ddp  then you don t have to change the lr. it should be the same as the one in dataparallel with batch_size = 32  because the effective batch size that your model is working with is the same: 32. it s just handled in a different way with ddp.     ekurtic i agree with your description of advantages of ddp in terms of communication  copy  sync etc. \\non the lr part  however  i am not sure. as per the discussion in this thread and few others  each gpu will individually process 4 images  loss will be calculated and then during backward function the gradients will be calculated individually first. then ddp calculates the average  instead of sum  of all local gradients. this means that the gradient magnitude  the average value  is effectively in the near-range of that for batch size of 4  and not 32. so i am not sure whether lr of batchsize 4 should be applied or that of 32.    loosely speaking this is why i think we don t need to update lr if we ensure that the effective batch sizes are the same:\\n\\nscreenshot 2021-07-16 at 07.45.051096×1178 101 kb\\n    thank you. this is very good explanation.  \n",
            "Category: distributed\n"
          ]
        }
      ]
    },
    {
      "cell_type": "code",
      "metadata": {
        "colab": {
          "base_uri": "https://localhost:8080/"
        },
        "id": "iMTHQKXN3HVR",
        "outputId": "2636f559-9bf7-46e1-fc79-7f13e0d31315"
      },
      "source": [
        "test_df['post'].apply(lambda x: len(x.split(' '))).sum()"
      ],
      "execution_count": null,
      "outputs": [
        {
          "data": {
            "text/plain": [
              "19692305"
            ]
          },
          "execution_count": 23,
          "metadata": {},
          "output_type": "execute_result"
        }
      ]
    },
    {
      "cell_type": "code",
      "metadata": {
        "colab": {
          "base_uri": "https://localhost:8080/"
        },
        "id": "9C2gGw7F3JP2",
        "outputId": "363caf89-08ef-479b-c438-1a4439bad860"
      },
      "source": [
        "19692305 - 15512636"
      ],
      "execution_count": null,
      "outputs": [
        {
          "data": {
            "text/plain": [
              "4179669"
            ]
          },
          "execution_count": 25,
          "metadata": {},
          "output_type": "execute_result"
        }
      ]
    },
    {
      "cell_type": "code",
      "metadata": {
        "id": "yTgvhgRc3PSc"
      },
      "source": [
        "#MODELING THE DATA===========================================================\n",
        "\n",
        "X = test_df['post']\n",
        "y = test_df['Category']\n",
        "X_train, X_test, y_train, y_test = train_test_split(X, y, test_size=0.3, random_state = 42)"
      ],
      "execution_count": null,
      "outputs": []
    },
    {
      "cell_type": "code",
      "metadata": {
        "colab": {
          "base_uri": "https://localhost:8080/"
        },
        "id": "HNjxOzWo3UuZ",
        "outputId": "70dd2638-2d95-4961-8a6b-360a4f03ce0c"
      },
      "source": [
        "X_train"
      ],
      "execution_count": null,
      "outputs": [
        {
          "data": {
            "text/plain": [
              "24119    script error: module has no attribute _modules...\n",
              "23683    using mse loss on batch i m trying to use mse ...\n",
              "21688    best input size of a the first layer 1d cnn i ...\n",
              "5897     convert tensor into an array hi \\ni m new in p...\n",
              "9654     query : loop for batch per epoch hello all \\ni...\n",
              "                               ...                        \n",
              "21578    training multivariate normal covariance matrix...\n",
              "5391     how portable are torch::save   load   models i...\n",
              "860      get local size in distributed training anyway ...\n",
              "15796    using places365 with pytorch i m trying to loa...\n",
              "23657    can we use .cpu   to save memory on gpu? i try...\n",
              "Name: post, Length: 19420, dtype: object"
            ]
          },
          "execution_count": 27,
          "metadata": {},
          "output_type": "execute_result"
        }
      ]
    },
    {
      "cell_type": "code",
      "metadata": {
        "colab": {
          "base_uri": "https://localhost:8080/"
        },
        "id": "HcjjNYke3WZm",
        "outputId": "4d4f7fc8-97ec-4298-8b7a-902304d14cd4"
      },
      "source": [
        "y_train"
      ],
      "execution_count": null,
      "outputs": [
        {
          "data": {
            "text/plain": [
              "24119    uncategorized\n",
              "23683    uncategorized\n",
              "21688    uncategorized\n",
              "5897               C++\n",
              "9654             audio\n",
              "             ...      \n",
              "21578    uncategorized\n",
              "5391               C++\n",
              "860        distributed\n",
              "15796           vision\n",
              "23657    uncategorized\n",
              "Name: Category, Length: 19420, dtype: object"
            ]
          },
          "execution_count": 28,
          "metadata": {},
          "output_type": "execute_result"
        }
      ]
    },
    {
      "cell_type": "code",
      "metadata": {
        "colab": {
          "base_uri": "https://localhost:8080/"
        },
        "id": "unO-pwba3XuH",
        "outputId": "a2887ed2-b5b0-428d-a8ff-4b70fbd49324"
      },
      "source": [
        "#Naive Bayes Classifier for Multinomials Models==============================\n",
        "#CountVectorizer + TF-IDF Transformer + MultinomialNB\n",
        "# TF-IDF = Term Frequency — Inverse Document Frequency\n",
        "\n",
        "from sklearn.naive_bayes import MultinomialNB\n",
        "from sklearn.pipeline import Pipeline\n",
        "from sklearn.feature_extraction.text import TfidfTransformer\n",
        "\n",
        "nb = Pipeline([('vect', CountVectorizer()),\n",
        "               ('tfidf', TfidfTransformer()),\n",
        "               ('clf', MultinomialNB()),\n",
        "              ])\n",
        "nb.fit(X_train, y_train)\n",
        "\n",
        "\n",
        "from sklearn.metrics import classification_report\n",
        "y_pred = nb.predict(X_test)\n",
        "\n",
        "print('accuracy %s' % accuracy_score(y_pred, y_test))\n",
        "res1311 = accuracy_score(y_pred, y_test)\n",
        "print(classification_report(y_test, y_pred,target_names=my_categories))"
      ],
      "execution_count": null,
      "outputs": [
        {
          "name": "stdout",
          "output_type": "stream",
          "text": [
            "accuracy 0.4046617806079539\n",
            "                        precision    recall  f1-score   support\n",
            "\n",
            "           distributed       0.00      0.00      0.00       407\n",
            "              autograd       0.00      0.00      0.00        23\n",
            "                   C++       0.00      0.00      0.00        55\n",
            "            deployment       0.00      0.00      0.00        16\n",
            "                   jit       0.00      0.00      0.00        56\n",
            "          quantization       0.67      0.00      0.00      1177\n",
            "                  glow       0.00      0.00      0.00       105\n",
            "                   nlp       0.00      0.00      0.00       275\n",
            "                Mobile       0.00      0.00      0.00        24\n",
            "reinforcement-learning       0.00      0.00      0.00        50\n",
            "         Memory Format       0.00      0.00      0.00        15\n",
            "                 audio       0.00      0.00      0.00       523\n",
            "       mixed-precision       0.00      0.00      0.00       102\n",
            "         Site Feedback       0.00      0.00      0.00       125\n",
            "                vision       0.37      0.95      0.53      2990\n",
            "         uncategorized       0.75      0.23      0.35      2380\n",
            "\n",
            "              accuracy                           0.40      8323\n",
            "             macro avg       0.11      0.07      0.06      8323\n",
            "          weighted avg       0.44      0.40      0.29      8323\n",
            "\n"
          ]
        },
        {
          "name": "stderr",
          "output_type": "stream",
          "text": [
            "/usr/local/lib/python3.7/dist-packages/sklearn/metrics/_classification.py:1272: UndefinedMetricWarning: Precision and F-score are ill-defined and being set to 0.0 in labels with no predicted samples. Use `zero_division` parameter to control this behavior.\n",
            "  _warn_prf(average, modifier, msg_start, len(result))\n"
          ]
        }
      ]
    },
    {
      "cell_type": "code",
      "metadata": {
        "colab": {
          "base_uri": "https://localhost:8080/"
        },
        "id": "-AmAvVw-3bBC",
        "outputId": "f498df09-b30b-4297-8d3d-546a14a01f65"
      },
      "source": [
        "#LINEAR SUPPORT VECTOR MACHINE================================================\n",
        "#CountVectorizer + TF-IDFTransformer + SGDClassifier\n",
        "from sklearn.linear_model import SGDClassifier\n",
        "\n",
        "sgd = Pipeline([('vect', CountVectorizer()),\n",
        "                ('tfidf', TfidfTransformer()),\n",
        "                ('clf', SGDClassifier(loss='hinge', penalty='l2',alpha=1e-3, random_state=42, max_iter=5, tol=None)),\n",
        "               ])\n",
        "sgd.fit(X_train, y_train)\n",
        "\n",
        "y_pred = sgd.predict(X_test)\n",
        "\n",
        "print('accuracy %s' % accuracy_score(y_pred, y_test))\n",
        "res1321 = accuracy_score(y_pred, y_test)\n",
        "print(classification_report(y_test, y_pred,target_names=my_categories))"
      ],
      "execution_count": null,
      "outputs": [
        {
          "name": "stdout",
          "output_type": "stream",
          "text": [
            "accuracy 0.6080740117746005\n",
            "                        precision    recall  f1-score   support\n",
            "\n",
            "           distributed       0.69      0.77      0.73       407\n",
            "              autograd       0.00      0.00      0.00        23\n",
            "                   C++       0.80      0.51      0.62        55\n",
            "            deployment       0.00      0.00      0.00        16\n",
            "                   jit       0.71      0.18      0.29        56\n",
            "          quantization       0.59      0.77      0.67      1177\n",
            "                  glow       0.70      0.07      0.12       105\n",
            "                   nlp       0.64      0.70      0.67       275\n",
            "                Mobile       0.94      0.71      0.81        24\n",
            "reinforcement-learning       0.50      0.10      0.17        50\n",
            "         Memory Format       0.00      0.00      0.00        15\n",
            "                 audio       0.70      0.50      0.59       523\n",
            "       mixed-precision       0.79      0.87      0.83       102\n",
            "         Site Feedback       0.82      0.44      0.57       125\n",
            "                vision       0.61      0.48      0.53      2990\n",
            "         uncategorized       0.58      0.73      0.65      2380\n",
            "\n",
            "              accuracy                           0.61      8323\n",
            "             macro avg       0.57      0.43      0.45      8323\n",
            "          weighted avg       0.61      0.61      0.60      8323\n",
            "\n"
          ]
        },
        {
          "name": "stderr",
          "output_type": "stream",
          "text": [
            "/usr/local/lib/python3.7/dist-packages/sklearn/metrics/_classification.py:1272: UndefinedMetricWarning: Precision and F-score are ill-defined and being set to 0.0 in labels with no predicted samples. Use `zero_division` parameter to control this behavior.\n",
            "  _warn_prf(average, modifier, msg_start, len(result))\n"
          ]
        }
      ]
    },
    {
      "cell_type": "code",
      "metadata": {
        "colab": {
          "base_uri": "https://localhost:8080/"
        },
        "id": "4fK9EdIM3ix0",
        "outputId": "afc3e43a-b88b-4d67-910e-2348dd33b48f"
      },
      "source": [
        "#Logistic Regression==========================================================\n",
        "#CountVectorizer + TF-IDFTransformer + Logistic Regression\n",
        "\n",
        "from sklearn.linear_model import LogisticRegression\n",
        "\n",
        "logreg = Pipeline([('vect', CountVectorizer()),\n",
        "                ('tfidf', TfidfTransformer()),\n",
        "                ('clf', LogisticRegression(n_jobs=1, C=1e5)),\n",
        "               ])\n",
        "logreg.fit(X_train, y_train)\n",
        "\n",
        "y_pred = logreg.predict (X_test)\n",
        "\n",
        "print('accuracy %s' % accuracy_score(y_pred, y_test))\n",
        "res1331 = accuracy_score(y_pred, y_test)\n",
        "print(classification_report(y_test, y_pred,target_names=my_categories))"
      ],
      "execution_count": null,
      "outputs": [
        {
          "name": "stderr",
          "output_type": "stream",
          "text": [
            "/usr/local/lib/python3.7/dist-packages/sklearn/linear_model/_logistic.py:940: ConvergenceWarning: lbfgs failed to converge (status=1):\n",
            "STOP: TOTAL NO. of ITERATIONS REACHED LIMIT.\n",
            "\n",
            "Increase the number of iterations (max_iter) or scale the data as shown in:\n",
            "    https://scikit-learn.org/stable/modules/preprocessing.html\n",
            "Please also refer to the documentation for alternative solver options:\n",
            "    https://scikit-learn.org/stable/modules/linear_model.html#logistic-regression\n",
            "  extra_warning_msg=_LOGISTIC_SOLVER_CONVERGENCE_MSG)\n"
          ]
        },
        {
          "name": "stdout",
          "output_type": "stream",
          "text": [
            "accuracy 0.5602547158476511\n",
            "                        precision    recall  f1-score   support\n",
            "\n",
            "           distributed       0.71      0.69      0.70       407\n",
            "              autograd       0.15      0.09      0.11        23\n",
            "                   C++       0.79      0.55      0.65        55\n",
            "            deployment       0.00      0.00      0.00        16\n",
            "                   jit       0.68      0.46      0.55        56\n",
            "          quantization       0.59      0.60      0.59      1177\n",
            "                  glow       0.30      0.20      0.24       105\n",
            "                   nlp       0.64      0.55      0.59       275\n",
            "                Mobile       0.90      0.75      0.82        24\n",
            "reinforcement-learning       0.48      0.20      0.28        50\n",
            "         Memory Format       0.50      0.47      0.48        15\n",
            "                 audio       0.60      0.49      0.54       523\n",
            "       mixed-precision       0.82      0.81      0.82       102\n",
            "         Site Feedback       0.81      0.49      0.61       125\n",
            "                vision       0.51      0.56      0.53      2990\n",
            "         uncategorized       0.56      0.56      0.56      2380\n",
            "\n",
            "              accuracy                           0.56      8323\n",
            "             macro avg       0.57      0.47      0.51      8323\n",
            "          weighted avg       0.56      0.56      0.56      8323\n",
            "\n"
          ]
        }
      ]
    },
    {
      "cell_type": "code",
      "metadata": {
        "colab": {
          "base_uri": "https://localhost:8080/"
        },
        "id": "vDWlpygb33S_",
        "outputId": "da73a6d9-2968-4c98-db5c-fe3ad885b123"
      },
      "source": [
        "#Decision Tree================================================================\n",
        "#CountVectorizer + TF-IDFTransformer + DecisionTreeClassifier\n",
        "\n",
        "from sklearn.tree import DecisionTreeClassifier\n",
        "\n",
        "dtree = Pipeline([('vect', CountVectorizer()),\n",
        "                ('tfidf', TfidfTransformer()),\n",
        "                ('clf', DecisionTreeClassifier(random_state=0)),\n",
        "               ])\n",
        "dtree.fit(X_train, y_train)\n",
        "\n",
        "y_pred = dtree.predict (X_test)\n",
        "\n",
        "print('accuracy %s' % accuracy_score(y_pred, y_test))\n",
        "res1341 = accuracy_score(y_pred, y_test)\n",
        "print(classification_report(y_test, y_pred,target_names=my_categories))"
      ],
      "execution_count": null,
      "outputs": [
        {
          "name": "stdout",
          "output_type": "stream",
          "text": [
            "accuracy 0.4614922503904842\n",
            "                        precision    recall  f1-score   support\n",
            "\n",
            "           distributed       0.50      0.51      0.50       407\n",
            "              autograd       0.00      0.00      0.00        23\n",
            "                   C++       0.60      0.56      0.58        55\n",
            "            deployment       0.00      0.00      0.00        16\n",
            "                   jit       0.50      0.27      0.35        56\n",
            "          quantization       0.50      0.51      0.50      1177\n",
            "                  glow       0.06      0.04      0.05       105\n",
            "                   nlp       0.57      0.48      0.52       275\n",
            "                Mobile       0.78      0.75      0.77        24\n",
            "reinforcement-learning       0.23      0.12      0.16        50\n",
            "         Memory Format       0.06      0.07      0.06        15\n",
            "                 audio       0.38      0.36      0.37       523\n",
            "       mixed-precision       0.72      0.70      0.71       102\n",
            "         Site Feedback       0.44      0.28      0.34       125\n",
            "                vision       0.43      0.45      0.44      2990\n",
            "         uncategorized       0.48      0.49      0.49      2380\n",
            "\n",
            "              accuracy                           0.46      8323\n",
            "             macro avg       0.39      0.35      0.36      8323\n",
            "          weighted avg       0.46      0.46      0.46      8323\n",
            "\n"
          ]
        }
      ]
    },
    {
      "cell_type": "code",
      "metadata": {
        "colab": {
          "base_uri": "https://localhost:8080/",
          "height": 172
        },
        "id": "tioDuRwe4QIP",
        "outputId": "31118156-dac3-463c-b351-c55993a7f66c"
      },
      "source": [
        "#RESULT========================================================================\n",
        "#Results of the previously trained models\n",
        "\n",
        "import pandas as pd\n",
        "\n",
        "results = pd.DataFrame({'Model': ['Naive Bayes MultinomialNB', 'Linear SVM', 'Logistic Regression', 'Decision Tree'],\n",
        "                         'Accuracy': [res1311, res1321, res1331, res1341]})\n",
        "results.set_index('Model')\n",
        "results.sort_values(by='Accuracy')"
      ],
      "execution_count": null,
      "outputs": [
        {
          "data": {
            "text/html": [
              "<div>\n",
              "<style scoped>\n",
              "    .dataframe tbody tr th:only-of-type {\n",
              "        vertical-align: middle;\n",
              "    }\n",
              "\n",
              "    .dataframe tbody tr th {\n",
              "        vertical-align: top;\n",
              "    }\n",
              "\n",
              "    .dataframe thead th {\n",
              "        text-align: right;\n",
              "    }\n",
              "</style>\n",
              "<table border=\"1\" class=\"dataframe\">\n",
              "  <thead>\n",
              "    <tr style=\"text-align: right;\">\n",
              "      <th></th>\n",
              "      <th>Model</th>\n",
              "      <th>Accuracy</th>\n",
              "    </tr>\n",
              "  </thead>\n",
              "  <tbody>\n",
              "    <tr>\n",
              "      <th>0</th>\n",
              "      <td>Naive Bayes MultinomialNB</td>\n",
              "      <td>0.404662</td>\n",
              "    </tr>\n",
              "    <tr>\n",
              "      <th>3</th>\n",
              "      <td>Decision Tree</td>\n",
              "      <td>0.461492</td>\n",
              "    </tr>\n",
              "    <tr>\n",
              "      <th>2</th>\n",
              "      <td>Logistic Regression</td>\n",
              "      <td>0.560255</td>\n",
              "    </tr>\n",
              "    <tr>\n",
              "      <th>1</th>\n",
              "      <td>Linear SVM</td>\n",
              "      <td>0.608074</td>\n",
              "    </tr>\n",
              "  </tbody>\n",
              "</table>\n",
              "</div>"
            ],
            "text/plain": [
              "                       Model  Accuracy\n",
              "0  Naive Bayes MultinomialNB  0.404662\n",
              "3              Decision Tree  0.461492\n",
              "2        Logistic Regression  0.560255\n",
              "1                 Linear SVM  0.608074"
            ]
          },
          "execution_count": 35,
          "metadata": {},
          "output_type": "execute_result"
        }
      ]
    },
    {
      "cell_type": "code",
      "metadata": {
        "id": "EV7P8FBR6VGT"
      },
      "source": [
        "#Cross Validation with linear SVM=============================================\n",
        "\n",
        "from sklearn.linear_model import SGDClassifier\n",
        "from sklearn.model_selection import cross_val_score\n",
        "import numpy as np\n",
        "\n",
        "sgd = Pipeline([('vect', CountVectorizer()),\n",
        "                ('tfidf', TfidfTransformer()),\n",
        "                ('clf', SGDClassifier(loss='hinge', penalty='l2',alpha=1e-3, random_state=42, max_iter=5, tol=None)),\n",
        "               ])\n",
        "cv_res_sgd = cross_val_score(sgd, X_train, y_train, cv=10)\n",
        "mean_cv_res_sgd = np.mean(cv_res_sgd)"
      ],
      "execution_count": null,
      "outputs": []
    },
    {
      "cell_type": "code",
      "metadata": {
        "colab": {
          "base_uri": "https://localhost:8080/"
        },
        "id": "KeXm5NDB6bcq",
        "outputId": "42569ab1-ce27-4e4e-b4a5-8af77ca5a126"
      },
      "source": [
        "print(mean_cv_res_sgd)"
      ],
      "execution_count": null,
      "outputs": [
        {
          "name": "stdout",
          "output_type": "stream",
          "text": [
            "0.6159114315139032\n"
          ]
        }
      ]
    },
    {
      "cell_type": "code",
      "metadata": {
        "id": "pU50Z2Ry61By"
      },
      "source": [
        "# Strategy 2 ================================================================\n",
        "# Remove stop words (+ what was done in Strategy 1)"
      ],
      "execution_count": null,
      "outputs": []
    },
    {
      "cell_type": "code",
      "metadata": {
        "id": "cynb6eU362fr"
      },
      "source": [
        "test_df2 = test_df.copy()"
      ],
      "execution_count": null,
      "outputs": []
    },
    {
      "cell_type": "code",
      "metadata": {
        "colab": {
          "base_uri": "https://localhost:8080/"
        },
        "id": "KCW06hVo63uJ",
        "outputId": "cfbd9932-9727-4fa8-efbd-0a8b9bf99b5e"
      },
      "source": [
        "import nltk\n",
        "nltk.download('stopwords')\n",
        "\n",
        "REPLACE_BY_SPACE_RE = re.compile('[/(){}\\[\\]\\'\\“\\”\\’\\|@,;]')\n",
        "BAD_SYMBOLS_RE = re.compile('[^0-9a-z #+_]')\n",
        "STOPWORDS = set(stopwords.words('english'))\n",
        "\n",
        "def clean_text(text):\n",
        "    \"\"\"\n",
        "        text: a string\n",
        "        \n",
        "        return: modified initial string\n",
        "    \"\"\"\n",
        "    text = BeautifulSoup(text, \"lxml\").text # HTML decoding\n",
        "    text = text.lower() # lowercase text\n",
        "    text = REPLACE_BY_SPACE_RE.sub(' ', text) # replace REPLACE_BY_SPACE_RE symbols by space in text\n",
        "    #text = BAD_SYMBOLS_RE.sub('', text) # delete symbols which are in BAD_SYMBOLS_RE from text\n",
        "    #text = ''.join(word for word in text if word not in punct)  # remove punctuation\n",
        "    text = ' '.join(word for word in text.split() if word not in STOPWORDS) # delete stopwors from text\n",
        "    return text"
      ],
      "execution_count": null,
      "outputs": [
        {
          "name": "stdout",
          "output_type": "stream",
          "text": [
            "[nltk_data] Downloading package stopwords to /root/nltk_data...\n",
            "[nltk_data]   Unzipping corpora/stopwords.zip.\n"
          ]
        }
      ]
    },
    {
      "cell_type": "code",
      "metadata": {
        "id": "oHZp6Dpj65FF"
      },
      "source": [
        "test_df2['post'] = test_df2['post'].apply(clean_text)"
      ],
      "execution_count": null,
      "outputs": []
    },
    {
      "cell_type": "code",
      "metadata": {
        "colab": {
          "base_uri": "https://localhost:8080/"
        },
        "id": "Dfb4Nzkm7Dm8",
        "outputId": "74c639c7-c018-4a35-8645-52cdd675eec8"
      },
      "source": [
        "def test_print_plot(index):\n",
        "    example = test_df2[test_df2.index == index][['post', 'Category']].values[0]\n",
        "    if len(example) > 0:\n",
        "        print(example[0])\n",
        "        print('Category:', example[1])\n",
        "test_print_plot(10)"
      ],
      "execution_count": null,
      "outputs": [
        {
          "name": "stdout",
          "output_type": "stream",
          "text": [
            "split batch_size according ngpu_per_node distributeddataparallel assume two nodes: node-a node-b 4gpus i.e. ngpu_per_node=4 . set args.batch_size = 256 node means want node process 256 images forward. 1 use distributeddataparallel 1gpu-per-process mode shall manually divide batchsize ngpu_per_node torch.utils.data.dataloader : torch.utils.data.dataloader batch_size = args.batch_size 4 way used pytorch-imagenet-official-example 53 . original opinion think distributedsampler handle thing passed world_size rank distributedsampler. . wrong please point thanks! 2 dividing batchsize ngpu_per_node correct way wonder happen that. means node 4*batch_size images processed per forward-process? 4*len dataset images processed one epoch forward frequency four times less usual i.e. total number images proceeded per epoch keep ? \\n\\n\\n hhxx:\\n\\n 2 dividing batchsize ngpu_per_node correct way wonder happen that.\\n\\ndoes means node 4*batch_size images processed per forward-process?\\nwill 4*len dataset images processed one epoch forward frequency four times less usual i.e. total number images proceeded per epoch keep ?\\n\\n\\n\\nyou correct. dataloader instance pairs ddp instances. divide batch-size=256 4 ddp instance process 256 images. env 8-gpus total 8 ddp instances. one iteration process 256 * 8 images total.\\nhowever ddp divide gradients world_size default code 83. configuring learning rate need consider batch_size single ddp instance. another question divide batch-size 8 total images processed one epoch usual eight times?\\nas learning rate 8-gpus total wiil 8 ddp instances. batch-size ddp distances 64 divides manually one iteration process 64×4=256 images per node. taking gpu account 2 nodes 4gpus per node one iteration process 64×8=512 images. assuming one-gpu-one-node scenario set 1×lr batch-size=64 4×lr batch-size=256 8×lr batch-size=512 universal strategy increase learning rate batch-size linearly . let us back ddp scenario 2 node 4gpus per node learning rate shall use？ 1×lr 4×lr 8×lr？ \\n\\n\\n hhxx:\\n\\nanother question divide batch-size 8 total images processed one epoch usual eight times?\\n\\n\\nthe total number images processed 8 times ddp instance process process batch_size images.\\n\\nlet us back ddp scenario 2 node 4gpus per node learning rate shall use？ 1×lr 4×lr 8×lr？\\n\\nit 1x lr. ddp calculates average instead sum local gradients. let use number explain this. assuming every image leads torch.ones_like param gradient parameter.\\n\\nfor local training without ddp set batch_size = 64 gradient parameter torch.ones_like param * 64.\\nfor 8-process ddp training set batch_size = 64 local gradient parameter also torch.ones_like param * 64. ddp use collective communication calculate sum gradients across ddp instances torch.ones_like param * 64 * 8 ddp divides value 8. final gradient param.grad field still torch.ones_like param * 64 code actually first divide globally sum . set lr need consider local batch_size.\\n according discuss average correct way gradient distributeddataparallel 34 think set 8×lr. state reason 1 node 8gpus local-batch=64 images processed one gpu iteration scenario:\\n 1 let us consider batch images batch-size=512 dataparallel scenario complete forward-backforwad pipeline is:\\n\\n\\nthe input data split 8 slices contains 64 images slice feed net compute output\\n\\n\\noutputs concated master gpu usually gpu 0 form 512 c outputs\\n\\n\\ncompute loss groundtruth dimension: 512 c : loss = \\\\frac 1 512 \\\\sum_ i=1 ^512 mse output groundtruth use mse loss illustration \\n\\n\\nuse loss.backward compute gradients.\\n\\n\\nso finally 512 c outputs computed one gpu. learning rate shall set 8×lr keep 512 batchsize one-gpu-one-node scenarior.\\n 2 secondly distributeddataparallel used pipeline is\\n\\n\\nthe input data also split 8 slices\\n\\n\\noutputs computed gpu form 64 c outputs\\n\\n\\nin gpu compute loss loss = \\\\frac 1 64 \\\\sum_ i=1 ^64 mse output groundtruth compute gradients grad_k k gpu number k=0 1 ... 7 : different dataparallel need collect outputs master gpu \\n\\n\\naverage gradients gpus: avg_grad =\\\\frac 1 8 \\\\sum_ k=1 ^8 grad_k\\n\\n\\nby way averaged gradients also gradients computed one-gpu-one-node scenario. think learning rate need set 8×lr keep 512 batchsize one-gpu-one-node scenario.\\nthe main difference local batch set 64 think local gradients averaged local samples resulting torch.ones_like param *64 64 think local gradients summed local samples resulting torch.ones_like param * 64. think local gradients averaged mainly loss function pytroch like mse compute average loss input samples gradients computed loss also averaged input samples.\\ni know understand distributeddataparallel right way. please let know wrong. agree analysis magnitude gradients agree depends loss function. even mse loss fn lead different conclusions:\\n\\nif fw-bw processed 8x data set lr 8x meaning model take larger step processed data gradient accurate. iiuc advocate \\nif gradient magnitude use 1x lr especially approaching convergence. otherwise use 8x lr likely overshoot hurt converged model accuracy.\\n\\nafter reading analysis realized mse loss fn discussion mostly irrelevant ddp. question would increase batch size k adjust learning rate open question. correct local batch-size 64 i.e. torch.utils.data.dataloader batch_size=64 torch.utils.data.distributed.distributedsampler used n processes totally ddp n processes distirbute one node one node forward-backward process similar forward-backward process 1-gpu-1-node using 64×n batch-size inputs? sgd https: arxiv.org abs 1706.02677 22 paper suggest minibatch size multiplied k multiply learning rate k. better understanding mrshenli - please answer?\\nsuppose 32*8 images dataset batch size 32. want train model 1 epoch only. consider following 3 scenarios. note use lr optimizer function three cases below.\\n 1 single node - single gpu: case one epoch require 8 steps execute i.e. step 32 images processed. gradient calculated applied 8 times. model parameters get updated 8 times.\\n 2 single node - multiple gpu using dataparallel: suppose use 8 gpus. case one epoch still require 8 steps execute i.e. step 32 images processed albeit gpu process 4 images gradients summed . gradient calculated applied 8 times. model parameters get updated 8 times.\\n 3 single node - multiple gpu using distributeddataparallel: suppose use 8 gpus. case one epoch require 1 step execute step 32*8 images processed. however also means gradient calculated applied 1 time. consequently model parameters get updated 1 time. order get similar results previous two points #1 #2 execute 8 epochs instead 1 gradients averaged backward function hence effective weight updates almost similar scenario 3 scenarios 1 2 above.\\nis understanding correct? think points 1 2 correct. want get behaviour ddp experiment 3 8 epochs batch size 32.\\nyou pass batch_size num_gpus real batch size i.e.: 32 8=4. 8 gpus process 4 images i.e. 4 images * 8 gpus = 32 images per epoch like 1 2 . ekurtic thanks quick response.\\ni trying find gain training time without affecting accuracy much using distributeddataparallel. per use batch size 4 yes training faster. however case using lr batch size 32 4. okay? divide lr 8 effectively slowing training thus gaining training time. missing something here? understanding ddp works:\\nthere gains result better performance faster training ddp. one ddp experiment model optimizer replicated gpu training starts notice happens . gpu optimize model independently exchange gradients gpus ensure optimization steps gpu.\\non side dataparallel scatter input data main gpu replicate model gpu forward pass gather back outputs main gpu compute loss send back results gpu compute gradients model end collect gradients main gpu compute optimization step. happens batch input data. see contrast ddp lot communication copying synchronizing on.\\nregarding lr question:\\nif use batch_size num_gpus = 32 8 = 4 batch size ddp change lr. one dataparallel batch_size = 32 effective batch size model working same: 32. handled different way ddp. ekurtic agree description advantages ddp terms communication copy sync etc. \\non lr part however sure. per discussion thread others gpu individually process 4 images loss calculated backward function gradients calculated individually first. ddp calculates average instead sum local gradients. means gradient magnitude average value effectively near-range batch size 4 32. sure whether lr batchsize 4 applied 32. loosely speaking think need update lr ensure effective batch sizes same:\\n\\nscreenshot 2021-07-16 07.45.051096×1178 101 kb\\n thank you. good explanation.\n",
            "Category: distributed\n"
          ]
        }
      ]
    },
    {
      "cell_type": "code",
      "metadata": {
        "id": "38IXNgJ-7IVX"
      },
      "source": [
        "#Modeling the data=============================================================\n",
        "X = test_df2.post\n",
        "y = test_df2.Category\n",
        "X_train, X_test, y_train, y_test = train_test_split(X, y, test_size=0.3, random_state = 42)"
      ],
      "execution_count": null,
      "outputs": []
    },
    {
      "cell_type": "code",
      "metadata": {
        "colab": {
          "base_uri": "https://localhost:8080/"
        },
        "id": "dgmXNINE7OM1",
        "outputId": "214b012b-0a66-4844-b6de-0c8f3dda9ccc"
      },
      "source": [
        "X_train"
      ],
      "execution_count": null,
      "outputs": [
        {
          "data": {
            "text/plain": [
              "24119    script error: module attribute _modules runtim...\n",
              "23683    using mse loss batch trying use mse loss batch...\n",
              "21688    best input size first layer 1d cnn trying buil...\n",
              "5897     convert tensor array hi new pytorch would like...\n",
              "9654     query : loop batch per epoch hello query regar...\n",
              "                               ...                        \n",
              "21578    training multivariate normal covariance matrix...\n",
              "5391     portable torch::save load models c++? portable...\n",
              "860      get local size distributed training anyway get...\n",
              "15796    using places365 pytorch trying load vgg16 vers...\n",
              "23657    use .cpu save memory gpu? try save memory gpu ...\n",
              "Name: post, Length: 19420, dtype: object"
            ]
          },
          "execution_count": 45,
          "metadata": {},
          "output_type": "execute_result"
        }
      ]
    },
    {
      "cell_type": "code",
      "metadata": {
        "colab": {
          "base_uri": "https://localhost:8080/"
        },
        "id": "376HnIyt7Paw",
        "outputId": "d41ed659-fa43-411f-be9e-cec3165bef40"
      },
      "source": [
        "y_train"
      ],
      "execution_count": null,
      "outputs": [
        {
          "data": {
            "text/plain": [
              "24119    uncategorized\n",
              "23683    uncategorized\n",
              "21688    uncategorized\n",
              "5897               C++\n",
              "9654             audio\n",
              "             ...      \n",
              "21578    uncategorized\n",
              "5391               C++\n",
              "860        distributed\n",
              "15796           vision\n",
              "23657    uncategorized\n",
              "Name: Category, Length: 19420, dtype: object"
            ]
          },
          "execution_count": 46,
          "metadata": {},
          "output_type": "execute_result"
        }
      ]
    },
    {
      "cell_type": "code",
      "metadata": {
        "colab": {
          "base_uri": "https://localhost:8080/"
        },
        "id": "9PM3UX1G7Q9q",
        "outputId": "f684976a-5210-4902-d401-63d42f918c38"
      },
      "source": [
        "#Naive Bayes Classifier for Multinomial Models\n",
        "#CountVectorizer + TF-IDFTransformer + MultinomialNB\n",
        "\n",
        "\n",
        "from sklearn.naive_bayes import MultinomialNB\n",
        "from sklearn.pipeline import Pipeline\n",
        "from sklearn.feature_extraction.text import TfidfTransformer\n",
        "\n",
        "nb = Pipeline([('vect', CountVectorizer()),\n",
        "               ('tfidf', TfidfTransformer()),\n",
        "               ('clf', MultinomialNB()),\n",
        "              ])\n",
        "nb.fit(X_train, y_train)\n",
        "\n",
        "\n",
        "from sklearn.metrics import classification_report\n",
        "y_pred = nb.predict(X_test)\n",
        "\n",
        "print('accuracy %s' % accuracy_score(y_pred, y_test))\n",
        "res2311 = accuracy_score(y_pred, y_test)\n",
        "print(classification_report(y_test, y_pred,target_names=my_categories))"
      ],
      "execution_count": null,
      "outputs": [
        {
          "name": "stdout",
          "output_type": "stream",
          "text": [
            "accuracy 0.41823861588369576\n",
            "                        precision    recall  f1-score   support\n",
            "\n",
            "           distributed       0.00      0.00      0.00       407\n",
            "              autograd       0.00      0.00      0.00        23\n",
            "                   C++       0.00      0.00      0.00        55\n",
            "            deployment       0.00      0.00      0.00        16\n",
            "                   jit       0.00      0.00      0.00        56\n",
            "          quantization       0.80      0.01      0.01      1177\n",
            "                  glow       0.00      0.00      0.00       105\n",
            "                   nlp       0.00      0.00      0.00       275\n",
            "                Mobile       0.00      0.00      0.00        24\n",
            "reinforcement-learning       0.00      0.00      0.00        50\n",
            "         Memory Format       0.00      0.00      0.00        15\n",
            "                 audio       0.00      0.00      0.00       523\n",
            "       mixed-precision       0.00      0.00      0.00       102\n",
            "         Site Feedback       0.00      0.00      0.00       125\n",
            "                vision       0.38      0.93      0.54      2990\n",
            "         uncategorized       0.75      0.29      0.42      2380\n",
            "\n",
            "              accuracy                           0.42      8323\n",
            "             macro avg       0.12      0.08      0.06      8323\n",
            "          weighted avg       0.46      0.42      0.31      8323\n",
            "\n"
          ]
        },
        {
          "name": "stderr",
          "output_type": "stream",
          "text": [
            "/usr/local/lib/python3.7/dist-packages/sklearn/metrics/_classification.py:1272: UndefinedMetricWarning: Precision and F-score are ill-defined and being set to 0.0 in labels with no predicted samples. Use `zero_division` parameter to control this behavior.\n",
            "  _warn_prf(average, modifier, msg_start, len(result))\n"
          ]
        }
      ]
    },
    {
      "cell_type": "code",
      "metadata": {
        "colab": {
          "base_uri": "https://localhost:8080/"
        },
        "id": "mpjrGmSC7TNC",
        "outputId": "b74d05e5-95b4-497e-875d-69b50de96fe9"
      },
      "source": [
        "#Linear Support Vector Machine\n",
        "#CountVectorizer + TF-IDFTransformer + SGDClassifier\n",
        "\n",
        "sgd = Pipeline([('vect', CountVectorizer()),\n",
        "                ('tfidf', TfidfTransformer()),\n",
        "                ('clf', SGDClassifier(loss='hinge', penalty='l2',alpha=1e-3, random_state=42, max_iter=5, tol=None)),\n",
        "               ])\n",
        "sgd.fit(X_train, y_train)\n",
        "\n",
        "y_pred = sgd.predict(X_test)\n",
        "\n",
        "print('accuracy %s' % accuracy_score(y_pred, y_test))\n",
        "res2321 = accuracy_score(y_pred, y_test)\n",
        "print(classification_report(y_test, y_pred,target_names=my_categories))"
      ],
      "execution_count": null,
      "outputs": [
        {
          "name": "stdout",
          "output_type": "stream",
          "text": [
            "accuracy 0.6095157995914935\n",
            "                        precision    recall  f1-score   support\n",
            "\n",
            "           distributed       0.68      0.77      0.73       407\n",
            "              autograd       0.00      0.00      0.00        23\n",
            "                   C++       0.83      0.53      0.64        55\n",
            "            deployment       0.00      0.00      0.00        16\n",
            "                   jit       0.73      0.20      0.31        56\n",
            "          quantization       0.59      0.77      0.67      1177\n",
            "                  glow       0.64      0.07      0.12       105\n",
            "                   nlp       0.64      0.69      0.66       275\n",
            "                Mobile       0.94      0.67      0.78        24\n",
            "reinforcement-learning       0.58      0.14      0.23        50\n",
            "         Memory Format       0.00      0.00      0.00        15\n",
            "                 audio       0.70      0.50      0.58       523\n",
            "       mixed-precision       0.80      0.87      0.84       102\n",
            "         Site Feedback       0.82      0.43      0.57       125\n",
            "                vision       0.60      0.48      0.54      2990\n",
            "         uncategorized       0.58      0.73      0.65      2380\n",
            "\n",
            "              accuracy                           0.61      8323\n",
            "             macro avg       0.57      0.43      0.46      8323\n",
            "          weighted avg       0.61      0.61      0.60      8323\n",
            "\n"
          ]
        },
        {
          "name": "stderr",
          "output_type": "stream",
          "text": [
            "/usr/local/lib/python3.7/dist-packages/sklearn/metrics/_classification.py:1272: UndefinedMetricWarning: Precision and F-score are ill-defined and being set to 0.0 in labels with no predicted samples. Use `zero_division` parameter to control this behavior.\n",
            "  _warn_prf(average, modifier, msg_start, len(result))\n"
          ]
        }
      ]
    },
    {
      "cell_type": "code",
      "metadata": {
        "colab": {
          "base_uri": "https://localhost:8080/"
        },
        "id": "CSmxfwPY7ZrW",
        "outputId": "8864e29e-cb96-42c8-da41-910d8860b365"
      },
      "source": [
        "#Logistic Regression\n",
        "#CountVectorizer + TF-IDFTransformer + Logistic Regression\n",
        "from sklearn.linear_model import LogisticRegression\n",
        "\n",
        "logreg = Pipeline([('vect', CountVectorizer()),\n",
        "                ('tfidf', TfidfTransformer()),\n",
        "                ('clf', LogisticRegression(n_jobs=1, C=1e5)),\n",
        "               ])\n",
        "logreg.fit(X_train, y_train)\n",
        "\n",
        "y_pred = logreg.predict (X_test)\n",
        "\n",
        "print('accuracy %s' % accuracy_score(y_pred, y_test))\n",
        "res2331 = accuracy_score(y_pred, y_test)\n",
        "print(classification_report(y_test, y_pred,target_names=my_categories))"
      ],
      "execution_count": null,
      "outputs": [
        {
          "name": "stderr",
          "output_type": "stream",
          "text": [
            "/usr/local/lib/python3.7/dist-packages/sklearn/linear_model/_logistic.py:940: ConvergenceWarning: lbfgs failed to converge (status=1):\n",
            "STOP: TOTAL NO. of ITERATIONS REACHED LIMIT.\n",
            "\n",
            "Increase the number of iterations (max_iter) or scale the data as shown in:\n",
            "    https://scikit-learn.org/stable/modules/preprocessing.html\n",
            "Please also refer to the documentation for alternative solver options:\n",
            "    https://scikit-learn.org/stable/modules/linear_model.html#logistic-regression\n",
            "  extra_warning_msg=_LOGISTIC_SOLVER_CONVERGENCE_MSG)\n"
          ]
        },
        {
          "name": "stdout",
          "output_type": "stream",
          "text": [
            "accuracy 0.5626576955424727\n",
            "                        precision    recall  f1-score   support\n",
            "\n",
            "           distributed       0.74      0.66      0.70       407\n",
            "              autograd       0.25      0.09      0.13        23\n",
            "                   C++       0.77      0.55      0.64        55\n",
            "            deployment       0.17      0.06      0.09        16\n",
            "                   jit       0.56      0.62      0.59        56\n",
            "          quantization       0.64      0.55      0.59      1177\n",
            "                  glow       0.34      0.15      0.21       105\n",
            "                   nlp       0.60      0.55      0.57       275\n",
            "                Mobile       0.68      0.88      0.76        24\n",
            "reinforcement-learning       0.47      0.58      0.52        50\n",
            "         Memory Format       0.50      0.47      0.48        15\n",
            "                 audio       0.61      0.52      0.56       523\n",
            "       mixed-precision       0.86      0.82      0.84       102\n",
            "         Site Feedback       0.72      0.51      0.60       125\n",
            "                vision       0.51      0.56      0.53      2990\n",
            "         uncategorized       0.55      0.58      0.56      2380\n",
            "\n",
            "              accuracy                           0.56      8323\n",
            "             macro avg       0.56      0.51      0.52      8323\n",
            "          weighted avg       0.57      0.56      0.56      8323\n",
            "\n"
          ]
        }
      ]
    },
    {
      "cell_type": "code",
      "metadata": {
        "colab": {
          "base_uri": "https://localhost:8080/"
        },
        "id": "rNH-5Sbx7gId",
        "outputId": "fd9d8fa0-c492-45fd-9d3d-fe1d4ec24bc9"
      },
      "source": [
        "#Decision Tree\n",
        "#CountVectorizer + TF-IDFTransformer + DecisionTreeClassifier\n",
        "\n",
        "from sklearn.tree import DecisionTreeClassifier\n",
        "\n",
        "dtree = Pipeline([('vect', CountVectorizer()),\n",
        "                ('tfidf', TfidfTransformer()),\n",
        "                ('clf', DecisionTreeClassifier(random_state=0)),\n",
        "               ])\n",
        "dtree.fit(X_train, y_train)\n",
        "\n",
        "y_pred = dtree.predict (X_test)\n",
        "\n",
        "print('accuracy %s' % accuracy_score(y_pred, y_test))\n",
        "res2341 = accuracy_score(y_pred, y_test)\n",
        "print(classification_report(y_test, y_pred,target_names=my_categories))"
      ],
      "execution_count": null,
      "outputs": [
        {
          "name": "stdout",
          "output_type": "stream",
          "text": [
            "accuracy 0.4693019343986543\n",
            "                        precision    recall  f1-score   support\n",
            "\n",
            "           distributed       0.56      0.56      0.56       407\n",
            "              autograd       0.00      0.00      0.00        23\n",
            "                   C++       0.54      0.62      0.58        55\n",
            "            deployment       0.09      0.06      0.07        16\n",
            "                   jit       0.33      0.20      0.25        56\n",
            "          quantization       0.51      0.51      0.51      1177\n",
            "                  glow       0.04      0.03      0.03       105\n",
            "                   nlp       0.51      0.50      0.50       275\n",
            "                Mobile       0.77      0.71      0.74        24\n",
            "reinforcement-learning       0.17      0.10      0.12        50\n",
            "         Memory Format       0.11      0.07      0.08        15\n",
            "                 audio       0.40      0.37      0.38       523\n",
            "       mixed-precision       0.68      0.68      0.68       102\n",
            "         Site Feedback       0.39      0.30      0.34       125\n",
            "                vision       0.44      0.47      0.46      2990\n",
            "         uncategorized       0.49      0.48      0.49      2380\n",
            "\n",
            "              accuracy                           0.47      8323\n",
            "             macro avg       0.38      0.35      0.36      8323\n",
            "          weighted avg       0.47      0.47      0.47      8323\n",
            "\n"
          ]
        }
      ]
    },
    {
      "cell_type": "code",
      "metadata": {
        "colab": {
          "base_uri": "https://localhost:8080/",
          "height": 673
        },
        "id": "PfWBD8WE7-ck",
        "outputId": "c62e6da4-fca1-4fa8-b065-1fea2e455ce0"
      },
      "source": [
        "from sklearn.metrics import confusion_matrix\n",
        "import seaborn as sns\n",
        "\n",
        "conf_mat = confusion_matrix(y_test, y_pred)\n",
        "fig, ax = plt.subplots(figsize=(10,10))\n",
        "sns.heatmap(conf_mat, annot=True, fmt='d',\n",
        "            xticklabels=my_categories, yticklabels=my_categories)\n",
        "plt.ylabel('Actual')\n",
        "plt.xlabel('Predicted')\n",
        "plt.show()"
      ],
      "execution_count": null,
      "outputs": [
        {
          "data": {
            "image/png": "[encoded data removed]",
            "text/plain": [
              "<Figure size 720x720 with 2 Axes>"
            ]
          },
          "metadata": {},
          "output_type": "display_data"
        }
      ]
    },
    {
      "cell_type": "code",
      "metadata": {
        "colab": {
          "base_uri": "https://localhost:8080/",
          "height": 172
        },
        "id": "_jTZnfvw8wBo",
        "outputId": "41eb2d85-90d0-4343-ce25-57a8bd5119cb"
      },
      "source": [
        "#Results\n",
        "#Results of the previously trained models\n",
        "import pandas as pd\n",
        "\n",
        "results = pd.DataFrame({'Model': ['Naive Bayes MultinomialNB', 'Linear SVM', 'Logistic Regression', 'Decision Tree'],\n",
        "                         'Accuracy': [res2311, res2321, res2331, res2341]})\n",
        "results.set_index('Model')\n",
        "results.sort_values(by='Accuracy')"
      ],
      "execution_count": null,
      "outputs": [
        {
          "data": {
            "text/html": [
              "<div>\n",
              "<style scoped>\n",
              "    .dataframe tbody tr th:only-of-type {\n",
              "        vertical-align: middle;\n",
              "    }\n",
              "\n",
              "    .dataframe tbody tr th {\n",
              "        vertical-align: top;\n",
              "    }\n",
              "\n",
              "    .dataframe thead th {\n",
              "        text-align: right;\n",
              "    }\n",
              "</style>\n",
              "<table border=\"1\" class=\"dataframe\">\n",
              "  <thead>\n",
              "    <tr style=\"text-align: right;\">\n",
              "      <th></th>\n",
              "      <th>Model</th>\n",
              "      <th>Accuracy</th>\n",
              "    </tr>\n",
              "  </thead>\n",
              "  <tbody>\n",
              "    <tr>\n",
              "      <th>0</th>\n",
              "      <td>Naive Bayes MultinomialNB</td>\n",
              "      <td>0.418239</td>\n",
              "    </tr>\n",
              "    <tr>\n",
              "      <th>3</th>\n",
              "      <td>Decision Tree</td>\n",
              "      <td>0.469302</td>\n",
              "    </tr>\n",
              "    <tr>\n",
              "      <th>2</th>\n",
              "      <td>Logistic Regression</td>\n",
              "      <td>0.562658</td>\n",
              "    </tr>\n",
              "    <tr>\n",
              "      <th>1</th>\n",
              "      <td>Linear SVM</td>\n",
              "      <td>0.609516</td>\n",
              "    </tr>\n",
              "  </tbody>\n",
              "</table>\n",
              "</div>"
            ],
            "text/plain": [
              "                       Model  Accuracy\n",
              "0  Naive Bayes MultinomialNB  0.418239\n",
              "3              Decision Tree  0.469302\n",
              "2        Logistic Regression  0.562658\n",
              "1                 Linear SVM  0.609516"
            ]
          },
          "execution_count": 53,
          "metadata": {},
          "output_type": "execute_result"
        }
      ]
    },
    {
      "cell_type": "code",
      "metadata": {
        "id": "9RtxmYYC83SQ"
      },
      "source": [
        "#Cross Validation with linear SVM\n",
        "\n",
        "from sklearn.linear_model import SGDClassifier\n",
        "from sklearn.model_selection import cross_val_score\n",
        "import numpy as np\n",
        "\n",
        "sgd = Pipeline([('vect', CountVectorizer()),\n",
        "                ('tfidf', TfidfTransformer()),\n",
        "                ('clf', SGDClassifier(loss='hinge', penalty='l2',alpha=1e-3, random_state=42, max_iter=5, tol=None)),\n",
        "               ])\n",
        "cv_res_sgd2 = cross_val_score(sgd, X_train, y_train, cv=10)\n",
        "mean_cv_res_sgd2 = np.mean(cv_res_sgd2)"
      ],
      "execution_count": null,
      "outputs": []
    },
    {
      "cell_type": "code",
      "metadata": {
        "colab": {
          "base_uri": "https://localhost:8080/"
        },
        "id": "IkRvwotI9Zwg",
        "outputId": "032939d1-9cbe-4676-ab3c-15fc5fffd303"
      },
      "source": [
        "print(mean_cv_res_sgd2)"
      ],
      "execution_count": null,
      "outputs": [
        {
          "name": "stdout",
          "output_type": "stream",
          "text": [
            "0.6139546858908342\n"
          ]
        }
      ]
    },
    {
      "cell_type": "code",
      "metadata": {
        "id": "k--wo9QG9sGy"
      },
      "source": [
        "#Strategy 3 ==================================================================\n",
        "#text.replace(r'\\n', ' ') (+ what was done in Strategy 2)"
      ],
      "execution_count": null,
      "outputs": []
    },
    {
      "cell_type": "code",
      "metadata": {
        "id": "sS6x5e679vcA"
      },
      "source": [
        "test_df3 = test_df2.copy()"
      ],
      "execution_count": null,
      "outputs": []
    },
    {
      "cell_type": "code",
      "metadata": {
        "id": "oF2gw-F69wk1"
      },
      "source": [
        "REPLACE_BY_SPACE_RE = re.compile('[/(){}\\[\\]\\'\\“\\”\\’\\|@,;]')\n",
        "BAD_SYMBOLS_RE = re.compile('[^0-9a-z #+_]')\n",
        "STOPWORDS = set(stopwords.words('english'))\n",
        "\n",
        "def clean_text(text):\n",
        "    \"\"\"\n",
        "        text: a string\n",
        "        \n",
        "        return: modified initial string\n",
        "    \"\"\"\n",
        "    text = BeautifulSoup(text, \"lxml\").text # HTML decoding\n",
        "    text = text.lower() # lowercase text\n",
        "    text = REPLACE_BY_SPACE_RE.sub(' ', text) # replace REPLACE_BY_SPACE_RE symbols by space in text\n",
        "    text = text.replace(r'\\n', ' ')\n",
        "    #text = BAD_SYMBOLS_RE.sub('', text) # delete symbols which are in BAD_SYMBOLS_RE from text\n",
        "    #text = ''.join(word for word in text if word not in punct)  # remove punctuation\n",
        "    text = ' '.join(word for word in text.split() if word not in STOPWORDS) # delete stopwors from text\n",
        "    return text\n",
        "    \n",
        "test_df3['post'] = test_df3['post'].apply(clean_text)"
      ],
      "execution_count": null,
      "outputs": []
    },
    {
      "cell_type": "code",
      "metadata": {
        "colab": {
          "base_uri": "https://localhost:8080/"
        },
        "id": "m4kwy9il9x14",
        "outputId": "1de60b49-5122-4083-84b4-f1f2a6974d15"
      },
      "source": [
        "def test_print_plot(index):\n",
        "    example = test_df3[test_df3.index == index][['post', 'Category']].values[0]\n",
        "    if len(example) > 0:\n",
        "        print(example[0])\n",
        "        print('Category:', example[1])\n",
        "test_print_plot(10)"
      ],
      "execution_count": null,
      "outputs": [
        {
          "name": "stdout",
          "output_type": "stream",
          "text": [
            "split batch_size according ngpu_per_node distributeddataparallel assume two nodes: node-a node-b 4gpus i.e. ngpu_per_node=4 . set args.batch_size = 256 node means want node process 256 images forward. 1 use distributeddataparallel 1gpu-per-process mode shall manually divide batchsize ngpu_per_node torch.utils.data.dataloader : torch.utils.data.dataloader batch_size = args.batch_size 4 way used pytorch-imagenet-official-example 53 . original opinion think distributedsampler handle thing passed world_size rank distributedsampler. . wrong please point thanks! 2 dividing batchsize ngpu_per_node correct way wonder happen that. means node 4*batch_size images processed per forward-process? 4*len dataset images processed one epoch forward frequency four times less usual i.e. total number images proceeded per epoch keep ? hhxx: 2 dividing batchsize ngpu_per_node correct way wonder happen that. means node 4*batch_size images processed per forward-process? 4*len dataset images processed one epoch forward frequency four times less usual i.e. total number images proceeded per epoch keep ? correct. dataloader instance pairs ddp instances. divide batch-size=256 4 ddp instance process 256 images. env 8-gpus total 8 ddp instances. one iteration process 256 * 8 images total. however ddp divide gradients world_size default code 83. configuring learning rate need consider batch_size single ddp instance. another question divide batch-size 8 total images processed one epoch usual eight times? learning rate 8-gpus total wiil 8 ddp instances. batch-size ddp distances 64 divides manually one iteration process 64×4=256 images per node. taking gpu account 2 nodes 4gpus per node one iteration process 64×8=512 images. assuming one-gpu-one-node scenario set 1×lr batch-size=64 4×lr batch-size=256 8×lr batch-size=512 universal strategy increase learning rate batch-size linearly . let us back ddp scenario 2 node 4gpus per node learning rate shall use？ 1×lr 4×lr 8×lr？ hhxx: another question divide batch-size 8 total images processed one epoch usual eight times? total number images processed 8 times ddp instance process process batch_size images. let us back ddp scenario 2 node 4gpus per node learning rate shall use？ 1×lr 4×lr 8×lr？ 1x lr. ddp calculates average instead sum local gradients. let use number explain this. assuming every image leads torch.ones_like param gradient parameter. local training without ddp set batch_size = 64 gradient parameter torch.ones_like param * 64. 8-process ddp training set batch_size = 64 local gradient parameter also torch.ones_like param * 64. ddp use collective communication calculate sum gradients across ddp instances torch.ones_like param * 64 * 8 ddp divides value 8. final gradient param.grad field still torch.ones_like param * 64 code actually first divide globally sum . set lr need consider local batch_size. according discuss average correct way gradient distributeddataparallel 34 think set 8×lr. state reason 1 node 8gpus local-batch=64 images processed one gpu iteration scenario: 1 let us consider batch images batch-size=512 dataparallel scenario complete forward-backforwad pipeline is: input data split 8 slices contains 64 images slice feed net compute output outputs concated master gpu usually gpu 0 form 512 c outputs compute loss groundtruth dimension: 512 c : loss = \\\\frac 1 512 \\\\sum_ i=1 ^512 mse output groundtruth use mse loss illustration use loss.backward compute gradients. finally 512 c outputs computed one gpu. learning rate shall set 8×lr keep 512 batchsize one-gpu-one-node scenarior. 2 secondly distributeddataparallel used pipeline input data also split 8 slices outputs computed gpu form 64 c outputs gpu compute loss loss = \\\\frac 1 64 \\\\sum_ i=1 ^64 mse output groundtruth compute gradients grad_k k gpu number k=0 1 ... 7 : different dataparallel need collect outputs master gpu average gradients gpus: avg_grad =\\\\frac 1 8 \\\\sum_ k=1 ^8 grad_k way averaged gradients also gradients computed one-gpu-one-node scenario. think learning rate need set 8×lr keep 512 batchsize one-gpu-one-node scenario. main difference local batch set 64 think local gradients averaged local samples resulting torch.ones_like param *64 64 think local gradients summed local samples resulting torch.ones_like param * 64. think local gradients averaged mainly loss function pytroch like mse compute average loss input samples gradients computed loss also averaged input samples. know understand distributeddataparallel right way. please let know wrong. agree analysis magnitude gradients agree depends loss function. even mse loss fn lead different conclusions: fw-bw processed 8x data set lr 8x meaning model take larger step processed data gradient accurate. iiuc advocate gradient magnitude use 1x lr especially approaching convergence. otherwise use 8x lr likely overshoot hurt converged model accuracy. reading analysis realized mse loss fn discussion mostly irrelevant ddp. question would increase batch size k adjust learning rate open question. correct local batch-size 64 i.e. torch.utils.data.dataloader batch_size=64 torch.utils.data.distributed.distributedsampler used n processes totally ddp n processes distirbute one node one node forward-backward process similar forward-backward process 1-gpu-1-node using 64×n batch-size inputs? sgd https: arxiv.org abs 1706.02677 22 paper suggest minibatch size multiplied k multiply learning rate k. better understanding mrshenli - please answer? suppose 32*8 images dataset batch size 32. want train model 1 epoch only. consider following 3 scenarios. note use lr optimizer function three cases below. 1 single node - single gpu: case one epoch require 8 steps execute i.e. step 32 images processed. gradient calculated applied 8 times. model parameters get updated 8 times. 2 single node - multiple gpu using dataparallel: suppose use 8 gpus. case one epoch still require 8 steps execute i.e. step 32 images processed albeit gpu process 4 images gradients summed . gradient calculated applied 8 times. model parameters get updated 8 times. 3 single node - multiple gpu using distributeddataparallel: suppose use 8 gpus. case one epoch require 1 step execute step 32*8 images processed. however also means gradient calculated applied 1 time. consequently model parameters get updated 1 time. order get similar results previous two points #1 #2 execute 8 epochs instead 1 gradients averaged backward function hence effective weight updates almost similar scenario 3 scenarios 1 2 above. understanding correct? think points 1 2 correct. want get behaviour ddp experiment 3 8 epochs batch size 32. pass batch_size num_gpus real batch size i.e.: 32 8=4. 8 gpus process 4 images i.e. 4 images * 8 gpus = 32 images per epoch like 1 2 . ekurtic thanks quick response. trying find gain training time without affecting accuracy much using distributeddataparallel. per use batch size 4 yes training faster. however case using lr batch size 32 4. okay? divide lr 8 effectively slowing training thus gaining training time. missing something here? understanding ddp works: gains result better performance faster training ddp. one ddp experiment model optimizer replicated gpu training starts notice happens . gpu optimize model independently exchange gradients gpus ensure optimization steps gpu. side dataparallel scatter input data main gpu replicate model gpu forward pass gather back outputs main gpu compute loss send back results gpu compute gradients model end collect gradients main gpu compute optimization step. happens batch input data. see contrast ddp lot communication copying synchronizing on. regarding lr question: use batch_size num_gpus = 32 8 = 4 batch size ddp change lr. one dataparallel batch_size = 32 effective batch size model working same: 32. handled different way ddp. ekurtic agree description advantages ddp terms communication copy sync etc. lr part however sure. per discussion thread others gpu individually process 4 images loss calculated backward function gradients calculated individually first. ddp calculates average instead sum local gradients. means gradient magnitude average value effectively near-range batch size 4 32. sure whether lr batchsize 4 applied 32. loosely speaking think need update lr ensure effective batch sizes same: screenshot 2021-07-16 07.45.051096×1178 101 kb thank you. good explanation.\n",
            "Category: distributed\n"
          ]
        }
      ]
    },
    {
      "cell_type": "code",
      "metadata": {
        "id": "yoP_njjZ93rf"
      },
      "source": [
        "#Cross Validation with linear SVM\n",
        "X = test_df3.post\n",
        "y = test_df3.Category\n",
        "X_train, X_test, y_train, y_test = train_test_split(X, y, test_size=0.3, random_state = 42)"
      ],
      "execution_count": null,
      "outputs": []
    },
    {
      "cell_type": "code",
      "metadata": {
        "id": "EpwClVWp95sI"
      },
      "source": [
        "from sklearn.linear_model import SGDClassifier\n",
        "from sklearn.model_selection import cross_val_score\n",
        "import numpy as np\n",
        "\n",
        "sgd = Pipeline([('vect', CountVectorizer()),\n",
        "                ('tfidf', TfidfTransformer()),\n",
        "                ('clf', SGDClassifier(loss='hinge', penalty='l2',alpha=1e-3, random_state=42, max_iter=5, tol=None)),\n",
        "               ])\n",
        "cv_res_sgd3 = cross_val_score(sgd, X_train, y_train, cv=10)\n",
        "mean_cv_res_sgd3 = np.mean(cv_res_sgd3)"
      ],
      "execution_count": null,
      "outputs": []
    },
    {
      "cell_type": "code",
      "metadata": {
        "colab": {
          "base_uri": "https://localhost:8080/"
        },
        "id": "OseMZv0y96_U",
        "outputId": "c506ae9e-37ac-4954-a0a2-68c89c004cfc"
      },
      "source": [
        "print(mean_cv_res_sgd3)"
      ],
      "execution_count": null,
      "outputs": [
        {
          "name": "stdout",
          "output_type": "stream",
          "text": [
            "0.6138516992790937\n"
          ]
        }
      ]
    },
    {
      "cell_type": "code",
      "metadata": {
        "id": "rxmrPOOu-Nz5"
      },
      "source": [
        "#Random Forest===============================================================\n",
        "from sklearn.ensemble import RandomForestClassifier\n",
        "from sklearn.model_selection import cross_val_score\n",
        "import numpy as np\n",
        "\n",
        "rf = Pipeline([('vect', CountVectorizer()),\n",
        "                ('tfidf', TfidfTransformer()),\n",
        "                ('clf', RandomForestClassifier(n_estimators=500, max_depth=500, random_state=0)),\n",
        "               ])\n",
        "\n",
        "cv_res_rf = cross_val_score(rf, X_train, y_train, cv=10)\n",
        "mean_cv_res_rf = np.mean(cv_res_rf)"
      ],
      "execution_count": null,
      "outputs": []
    },
    {
      "cell_type": "code",
      "metadata": {
        "colab": {
          "base_uri": "https://localhost:8080/"
        },
        "id": "UyVYHqhw-Po9",
        "outputId": "ad5a0036-951e-4c48-d062-e011d08ba2cb"
      },
      "source": [
        "print(mean_cv_res_rf)#max_depth = 10, n_estimators=300"
      ],
      "execution_count": null,
      "outputs": [
        {
          "name": "stdout",
          "output_type": "stream",
          "text": [
            "0.5705458290422245\n"
          ]
        }
      ]
    },
    {
      "cell_type": "code",
      "metadata": {
        "colab": {
          "base_uri": "https://localhost:8080/"
        },
        "id": "_ar8zRKNPcSG",
        "outputId": "bbedf324-7954-421c-954a-a04ac797dacd"
      },
      "source": [
        "print(mean_cv_res_rf)# max_depth = 100, n_estimators=300"
      ],
      "execution_count": null,
      "outputs": [
        {
          "name": "stdout",
          "output_type": "stream",
          "text": [
            "0.5705458290422245\n"
          ]
        }
      ]
    },
    {
      "cell_type": "code",
      "metadata": {
        "colab": {
          "base_uri": "https://localhost:8080/"
        },
        "id": "4HNZnfiBPdwV",
        "outputId": "2498bd1a-8853-4061-b8f1-0a3c4953ed71"
      },
      "source": [
        "print(mean_cv_res_rf)# max_depth = 500, n_estimators=300"
      ],
      "execution_count": null,
      "outputs": [
        {
          "name": "stdout",
          "output_type": "stream",
          "text": [
            "0.5705458290422245\n"
          ]
        }
      ]
    },
    {
      "cell_type": "code",
      "metadata": {
        "colab": {
          "base_uri": "https://localhost:8080/"
        },
        "id": "RL-QYQ2zPfRA",
        "outputId": "75333f68-9d99-408b-9e57-2ed89948e17a"
      },
      "source": [
        "##### BEST #####\n",
        "print(mean_cv_res_rf)# max_depth = 500, n_estimators=400 \n",
        "##### BEST #####"
      ],
      "execution_count": null,
      "outputs": [
        {
          "name": "stdout",
          "output_type": "stream",
          "text": [
            "0.5705458290422245\n"
          ]
        }
      ]
    },
    {
      "cell_type": "code",
      "metadata": {
        "colab": {
          "base_uri": "https://localhost:8080/"
        },
        "id": "jl1quvpbPgbn",
        "outputId": "d62187b7-722f-4b8c-80d2-0f61c5601c59"
      },
      "source": [
        "print(mean_cv_res_rf)# max_depth = 1000, n_estimators=400"
      ],
      "execution_count": null,
      "outputs": [
        {
          "name": "stdout",
          "output_type": "stream",
          "text": [
            "0.5705458290422245\n"
          ]
        }
      ]
    },
    {
      "cell_type": "code",
      "metadata": {
        "colab": {
          "base_uri": "https://localhost:8080/"
        },
        "id": "CBGj4QEMPhts",
        "outputId": "9c1c1cc6-f3e5-4e74-83d0-4d20951bb125"
      },
      "source": [
        "print(mean_cv_res_rf)# max_depth = 500, n_estimators=500"
      ],
      "execution_count": null,
      "outputs": [
        {
          "name": "stdout",
          "output_type": "stream",
          "text": [
            "0.5705458290422245\n"
          ]
        }
      ]
    },
    {
      "cell_type": "code",
      "metadata": {
        "id": "zo7lRmvvPirQ"
      },
      "source": [
        "from sklearn.ensemble import RandomForestClassifier\n",
        "from sklearn.model_selection import cross_val_score\n",
        "import numpy as np\n",
        "\n",
        "rf = Pipeline([('vect', TfidfVectorizer()),\n",
        "                ('tfidf', TfidfTransformer()),\n",
        "                ('clf', RandomForestClassifier(n_estimators=200, max_depth=100, random_state=0)),\n",
        "               ])\n",
        "\n",
        "cv_res_rf_tfidf = cross_val_score(rf, X_train, y_train, cv=10)\n",
        "mean_cv_res_rf_tfidf = np.mean(cv_res_rf_tfidf)"
      ],
      "execution_count": null,
      "outputs": []
    },
    {
      "cell_type": "code",
      "metadata": {
        "colab": {
          "base_uri": "https://localhost:8080/"
        },
        "id": "ev1tVzXkPnOo",
        "outputId": "cf5c3522-d49e-43f1-ed64-e96d6cde5019"
      },
      "source": [
        "mean_cv_res_rf_tfidf# max_depth = 500, n_estimators=500"
      ],
      "execution_count": null,
      "outputs": [
        {
          "data": {
            "text/plain": [
              "0.5579299691040165"
            ]
          },
          "execution_count": 71,
          "metadata": {},
          "output_type": "execute_result"
        }
      ]
    },
    {
      "cell_type": "code",
      "metadata": {
        "colab": {
          "base_uri": "https://localhost:8080/"
        },
        "id": "-BSdVci5Uh11",
        "outputId": "d0784ea9-1638-4a7f-8386-ba8642156e95"
      },
      "source": [
        "mean_cv_res_rf_tfidf # n_estimators=200, max_depth=100"
      ],
      "execution_count": null,
      "outputs": [
        {
          "data": {
            "text/plain": [
              "0.5579299691040165"
            ]
          },
          "execution_count": 72,
          "metadata": {},
          "output_type": "execute_result"
        }
      ]
    },
    {
      "cell_type": "code",
      "metadata": {
        "id": "YJKqYoaHUi7W"
      },
      "source": [
        "#Using TF-IDF as a vectorizer and transformer is slighly better than using CountVectorizer as a Vectorizer.\n",
        "from sklearn.linear_model import SGDClassifier\n",
        "from sklearn.model_selection import cross_val_score\n",
        "import numpy as np\n",
        "\n",
        "sgd = Pipeline([('vect', TfidfVectorizer()),\n",
        "                ('tfidf', TfidfTransformer()),\n",
        "                ('clf', SGDClassifier(loss='hinge', penalty='l2',alpha=1e-3, random_state=42, max_iter=100, tol=None)),\n",
        "               ])\n",
        "cv_res_sgd_tfidf = cross_val_score(sgd, X_train, y_train, cv=10)\n",
        "mean_cv_res_sgd_tfidf = np.mean(cv_res_sgd_tfidf)"
      ],
      "execution_count": null,
      "outputs": []
    },
    {
      "cell_type": "code",
      "metadata": {
        "colab": {
          "base_uri": "https://localhost:8080/"
        },
        "id": "j5uk1MpRUkk7",
        "outputId": "622bf9b3-5d4a-4abb-e418-19b31dafd9fc"
      },
      "source": [
        "mean_cv_res_sgd_tfidf #10 in max_iter"
      ],
      "execution_count": null,
      "outputs": [
        {
          "data": {
            "text/plain": [
              "0.6179711637487126"
            ]
          },
          "execution_count": 74,
          "metadata": {},
          "output_type": "execute_result"
        }
      ]
    },
    {
      "cell_type": "code",
      "metadata": {
        "colab": {
          "base_uri": "https://localhost:8080/"
        },
        "id": "cp8vvm4_VfZC",
        "outputId": "6e8e6453-0c6a-48f4-a3d4-c2202ce2fafd"
      },
      "source": [
        "mean_cv_res_sgd_tfidf# 100 in max_iter"
      ],
      "execution_count": null,
      "outputs": [
        {
          "data": {
            "text/plain": [
              "0.6179711637487126"
            ]
          },
          "execution_count": 75,
          "metadata": {},
          "output_type": "execute_result"
        }
      ]
    },
    {
      "cell_type": "code",
      "metadata": {
        "colab": {
          "base_uri": "https://localhost:8080/"
        },
        "id": "iQKpezBOVgTF",
        "outputId": "75df2ccd-562d-4f6a-e532-dafeb63d4813"
      },
      "source": [
        "!pip install xgboost"
      ],
      "execution_count": null,
      "outputs": [
        {
          "name": "stdout",
          "output_type": "stream",
          "text": [
            "Requirement already satisfied: xgboost in /usr/local/lib/python3.7/dist-packages (0.90)\n",
            "Requirement already satisfied: scipy in /usr/local/lib/python3.7/dist-packages (from xgboost) (1.4.1)\n",
            "Requirement already satisfied: numpy in /usr/local/lib/python3.7/dist-packages (from xgboost) (1.19.5)\n"
          ]
        }
      ]
    },
    {
      "cell_type": "code",
      "metadata": {
        "colab": {
          "background_save": true
        },
        "id": "cN8xBzeDVhi2"
      },
      "source": [
        "import xgboost as xgb\n",
        "\n",
        "xgb = Pipeline(steps=[('vect', TfidfVectorizer()),\n",
        "                      ('tfidf', TfidfTransformer()),\n",
        "                      ('xgboost', xgb.XGBClassifier(objective='multi:softmax'))])\n",
        "\n",
        "cv_res_xgb_tfidf = cross_val_score(xgb, X_train, y_train, cv=10)\n",
        "mean_cv_res_xgb_tfidf = np.mean(cv_res_xgb_tfidf)"
      ],
      "execution_count": null,
      "outputs": []
    },
    {
      "cell_type": "code",
      "metadata": {
        "colab": {
          "background_save": true
        },
        "id": "iyyDWMxxVq4I",
        "outputId": "bcb399d5-45c5-420b-9cfe-448dd6f1f64e"
      },
      "source": [
        "mean_cv_res_xgb_tfidf"
      ],
      "execution_count": null,
      "outputs": [
        {
          "data": {
            "text/plain": [
              "0.6066941297631308"
            ]
          },
          "execution_count": null,
          "metadata": {},
          "output_type": "execute_result"
        }
      ]
    },
    {
      "cell_type": "code",
      "metadata": {
        "colab": {
          "background_save": true
        },
        "id": "odr6ngkErae1"
      },
      "source": [
        "xgb.fit(X_train, y_train)\n",
        "\n",
        "y_pred = xgb.predict(X_test)"
      ],
      "execution_count": null,
      "outputs": []
    },
    {
      "cell_type": "code",
      "metadata": {
        "colab": {
          "background_save": true
        },
        "id": "iypJKrRwrcSs",
        "outputId": "91a6955c-602a-4072-cdd8-cfa1fcce2437"
      },
      "source": [
        "print('accuracy %s' % accuracy_score(y_pred, y_test))\n",
        "res_xgb = accuracy_score(y_pred, y_test)\n",
        "print(classification_report(y_test, y_pred,target_names=my_categories))"
      ],
      "execution_count": null,
      "outputs": [
        {
          "name": "stdout",
          "output_type": "stream",
          "text": [
            "accuracy 0.599783731827466\n",
            "                        precision    recall  f1-score   support\n",
            "\n",
            "           distributed       0.77      0.67      0.72       407\n",
            "              autograd       0.00      0.00      0.00        23\n",
            "                   C++       0.80      0.73      0.76        55\n",
            "            deployment       0.00      0.00      0.00        16\n",
            "                   jit       0.71      0.36      0.48        56\n",
            "          quantization       0.66      0.67      0.66      1177\n",
            "                  glow       0.67      0.08      0.14       105\n",
            "                   nlp       0.71      0.67      0.69       275\n",
            "                Mobile       0.90      0.79      0.84        24\n",
            "reinforcement-learning       0.48      0.22      0.30        50\n",
            "         Memory Format       0.38      0.33      0.36        15\n",
            "                 audio       0.70      0.42      0.52       523\n",
            "       mixed-precision       0.77      0.90      0.83       102\n",
            "         Site Feedback       0.72      0.43      0.54       125\n",
            "                vision       0.51      0.65      0.57      2990\n",
            "         uncategorized       0.64      0.56      0.60      2380\n",
            "\n",
            "              accuracy                           0.60      8323\n",
            "             macro avg       0.59      0.47      0.50      8323\n",
            "          weighted avg       0.61      0.60      0.60      8323\n",
            "\n"
          ]
        },
        {
          "name": "stderr",
          "output_type": "stream",
          "text": [
            "/usr/local/lib/python3.7/dist-packages/sklearn/metrics/_classification.py:1272: UndefinedMetricWarning: Precision and F-score are ill-defined and being set to 0.0 in labels with no predicted samples. Use `zero_division` parameter to control this behavior.\n",
            "  _warn_prf(average, modifier, msg_start, len(result))\n"
          ]
        }
      ]
    },
    {
      "cell_type": "code",
      "metadata": {
        "colab": {
          "background_save": true
        },
        "id": "8OffX97duKJH",
        "outputId": "804fdfab-65cb-4316-cc56-5d5ec3436a06"
      },
      "source": [
        "conf_mat = confusion_matrix(y_test, y_pred)\n",
        "fig, ax = plt.subplots(figsize=(10,10))\n",
        "sns.heatmap(conf_mat, annot=True, fmt='d',\n",
        "            xticklabels=my_categories, yticklabels=my_categories)\n",
        "plt.ylabel('Actual')\n",
        "plt.xlabel('Predicted')\n",
        "plt.show()"
      ],
      "execution_count": null,
      "outputs": [
        {
          "data": {
            "image/png": "[encoded data removed]",
            "text/plain": [
              "<Figure size 720x720 with 2 Axes>"
            ]
          },
          "metadata": {},
          "output_type": "display_data"
        }
      ]
    },
    {
      "cell_type": "code",
      "metadata": {
        "colab": {
          "base_uri": "https://localhost:8080/"
        },
        "id": "B-_yuSaEuNER",
        "outputId": "9c5da43b-8500-4a5b-8e24-c7c759b10454"
      },
      "source": [
        "!pip install lightgbm"
      ],
      "execution_count": null,
      "outputs": [
        {
          "name": "stdout",
          "output_type": "stream",
          "text": [
            "Requirement already satisfied: lightgbm in /usr/local/lib/python3.7/dist-packages (2.2.3)\n",
            "Requirement already satisfied: scikit-learn in /usr/local/lib/python3.7/dist-packages (from lightgbm) (0.22.2.post1)\n",
            "Requirement already satisfied: numpy in /usr/local/lib/python3.7/dist-packages (from lightgbm) (1.19.5)\n",
            "Requirement already satisfied: scipy in /usr/local/lib/python3.7/dist-packages (from lightgbm) (1.4.1)\n",
            "Requirement already satisfied: joblib>=0.11 in /usr/local/lib/python3.7/dist-packages (from scikit-learn->lightgbm) (1.0.1)\n"
          ]
        }
      ]
    },
    {
      "cell_type": "code",
      "metadata": {
        "id": "p2smMOXjuRjw"
      },
      "source": [
        "import lightgbm as lgbm\n",
        "\n",
        "tfidf_vec = TfidfVectorizer(dtype=np.float32, sublinear_tf=True, use_idf=True, smooth_idf=True)\n",
        "X_data_tfidf = tfidf_vec.fit_transform(test_df3['post'])\n",
        "X_train_tfidf = tfidf_vec.transform(X_train)\n",
        "X_test_tfidf = tfidf_vec.transform(X_test)\n",
        "\n",
        "clf_LGBM = lgbm.LGBMClassifier(objective='multiclass', verbose=-1, learning_rate=0.5, max_depth=20, num_leaves=50, n_estimators=120, max_bin=2000,)\n",
        "clf_LGBM.fit(X_train_tfidf, y_train, verbose=-1)\n",
        "predicted_LGBM = clf_LGBM.predict(X_test_tfidf)"
      ],
      "execution_count": null,
      "outputs": []
    },
    {
      "cell_type": "code",
      "metadata": {
        "id": "euY79x3juUjX"
      },
      "source": [
        "cv_res_lgbm_tfidf = cross_val_score(clf_LGBM, X_train_tfidf, y_train, cv=10)\n",
        "mean_cv_res_lgbm_tfidf = np.mean(cv_res_lgbm_tfidf)"
      ],
      "execution_count": null,
      "outputs": []
    },
    {
      "cell_type": "code",
      "metadata": {
        "colab": {
          "base_uri": "https://localhost:8080/"
        },
        "id": "WazhwdOlveVZ",
        "outputId": "bdf3afba-1764-41f2-eaff-631df97240ee"
      },
      "source": [
        "mean_cv_res_lgbm_tfidf"
      ],
      "execution_count": null,
      "outputs": [
        {
          "data": {
            "text/plain": [
              "0.2818228630278064"
            ]
          },
          "execution_count": 85,
          "metadata": {},
          "output_type": "execute_result"
        }
      ]
    },
    {
      "cell_type": "code",
      "metadata": {
        "colab": {
          "base_uri": "https://localhost:8080/"
        },
        "id": "2_J6TGuI9ZqK",
        "outputId": "0e1b6e45-6712-4574-86bc-77707797c502"
      },
      "source": [
        "print('accuracy %s' % accuracy_score(predicted_LGBM, y_test))\n",
        "res_lgbm = accuracy_score(predicted_LGBM, y_test)\n",
        "print(classification_report(y_test, predicted_LGBM,target_names=my_categories))"
      ],
      "execution_count": null,
      "outputs": [
        {
          "name": "stdout",
          "output_type": "stream",
          "text": [
            "accuracy 0.2099002763426649\n",
            "                        precision    recall  f1-score   support\n",
            "\n",
            "           distributed       0.00      0.00      0.00       407\n",
            "              autograd       0.00      0.00      0.00        23\n",
            "                   C++       0.00      0.00      0.00        55\n",
            "            deployment       0.00      0.00      0.00        16\n",
            "                   jit       0.00      0.00      0.00        56\n",
            "          quantization       0.15      0.62      0.24      1177\n",
            "                  glow       0.00      0.00      0.00       105\n",
            "                   nlp       0.00      0.00      0.00       275\n",
            "                Mobile       0.00      0.00      0.00        24\n",
            "reinforcement-learning       0.00      0.00      0.00        50\n",
            "         Memory Format       0.00      0.00      0.00        15\n",
            "                 audio       0.50      0.00      0.00       523\n",
            "       mixed-precision       0.00      0.00      0.00       102\n",
            "         Site Feedback       0.00      0.00      0.00       125\n",
            "                vision       0.33      0.22      0.26      2990\n",
            "         uncategorized       0.30      0.15      0.20      2380\n",
            "\n",
            "              accuracy                           0.21      8323\n",
            "             macro avg       0.08      0.06      0.04      8323\n",
            "          weighted avg       0.26      0.21      0.19      8323\n",
            "\n"
          ]
        },
        {
          "name": "stderr",
          "output_type": "stream",
          "text": [
            "/usr/local/lib/python3.7/dist-packages/sklearn/metrics/_classification.py:1272: UndefinedMetricWarning: Precision and F-score are ill-defined and being set to 0.0 in labels with no predicted samples. Use `zero_division` parameter to control this behavior.\n",
            "  _warn_prf(average, modifier, msg_start, len(result))\n"
          ]
        }
      ]
    },
    {
      "cell_type": "code",
      "metadata": {
        "colab": {
          "base_uri": "https://localhost:8080/",
          "height": 673
        },
        "id": "DdrY58P99bJ4",
        "outputId": "83d3763f-294e-404a-f13e-4c20412cc17b"
      },
      "source": [
        "conf_mat = confusion_matrix(y_test, predicted_LGBM)\n",
        "fig, ax = plt.subplots(figsize=(10,10))\n",
        "sns.heatmap(conf_mat, annot=True, fmt='d',\n",
        "            xticklabels=my_categories, yticklabels=my_categories)\n",
        "plt.ylabel('Actual')\n",
        "plt.xlabel('Predicted')\n",
        "plt.show()"
      ],
      "execution_count": null,
      "outputs": [
        {
          "data": {
            "image/png": "[encoded data removed]",
            "text/plain": [
              "<Figure size 720x720 with 2 Axes>"
            ]
          },
          "metadata": {},
          "output_type": "display_data"
        }
      ]
    },
    {
      "cell_type": "code",
      "metadata": {
        "id": "fcUicw0D9dFc"
      },
      "source": [
        ""
      ],
      "execution_count": null,
      "outputs": []
    }
  ]
}